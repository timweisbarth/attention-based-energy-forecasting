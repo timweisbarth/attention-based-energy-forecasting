{
 "cells": [
  {
   "cell_type": "code",
   "execution_count": 13,
   "metadata": {},
   "outputs": [],
   "source": [
    "import pandas as pd\n",
    "import numpy as np\n",
    "import matplotlib.pyplot as plt\n",
    "import statsmodels.api as sm\n",
    "\n",
    "df = pd.read_csv(\"../data/time_series_60min_singleindex_filtered_DE_3features.csv\")"
   ]
  },
  {
   "cell_type": "markdown",
   "metadata": {},
   "source": [
    "## First look"
   ]
  },
  {
   "cell_type": "code",
   "execution_count": 14,
   "metadata": {},
   "outputs": [
    {
     "data": {
      "text/html": [
       "<div>\n",
       "<style scoped>\n",
       "    .dataframe tbody tr th:only-of-type {\n",
       "        vertical-align: middle;\n",
       "    }\n",
       "\n",
       "    .dataframe tbody tr th {\n",
       "        vertical-align: top;\n",
       "    }\n",
       "\n",
       "    .dataframe thead th {\n",
       "        text-align: right;\n",
       "    }\n",
       "</style>\n",
       "<table border=\"1\" class=\"dataframe\">\n",
       "  <thead>\n",
       "    <tr style=\"text-align: right;\">\n",
       "      <th></th>\n",
       "      <th>DE_load_actual_entsoe_transparency</th>\n",
       "      <th>DE_solar_generation_actual</th>\n",
       "      <th>DE_wind_generation_actual</th>\n",
       "    </tr>\n",
       "  </thead>\n",
       "  <tbody>\n",
       "    <tr>\n",
       "      <th>count</th>\n",
       "      <td>50400.000000</td>\n",
       "      <td>50297.000000</td>\n",
       "      <td>50326.000000</td>\n",
       "    </tr>\n",
       "    <tr>\n",
       "      <th>mean</th>\n",
       "      <td>55492.468552</td>\n",
       "      <td>4566.042905</td>\n",
       "      <td>11552.234650</td>\n",
       "    </tr>\n",
       "    <tr>\n",
       "      <th>std</th>\n",
       "      <td>10015.431042</td>\n",
       "      <td>6940.267590</td>\n",
       "      <td>9076.350769</td>\n",
       "    </tr>\n",
       "    <tr>\n",
       "      <th>min</th>\n",
       "      <td>31307.000000</td>\n",
       "      <td>0.000000</td>\n",
       "      <td>135.000000</td>\n",
       "    </tr>\n",
       "    <tr>\n",
       "      <th>25%</th>\n",
       "      <td>47106.000000</td>\n",
       "      <td>0.000000</td>\n",
       "      <td>4506.000000</td>\n",
       "    </tr>\n",
       "    <tr>\n",
       "      <th>50%</th>\n",
       "      <td>55092.000000</td>\n",
       "      <td>173.000000</td>\n",
       "      <td>9015.000000</td>\n",
       "    </tr>\n",
       "    <tr>\n",
       "      <th>75%</th>\n",
       "      <td>64309.250000</td>\n",
       "      <td>7342.000000</td>\n",
       "      <td>16113.750000</td>\n",
       "    </tr>\n",
       "    <tr>\n",
       "      <th>max</th>\n",
       "      <td>77549.000000</td>\n",
       "      <td>32947.000000</td>\n",
       "      <td>46064.000000</td>\n",
       "    </tr>\n",
       "  </tbody>\n",
       "</table>\n",
       "</div>"
      ],
      "text/plain": [
       "       DE_load_actual_entsoe_transparency  DE_solar_generation_actual  \\\n",
       "count                        50400.000000                50297.000000   \n",
       "mean                         55492.468552                 4566.042905   \n",
       "std                          10015.431042                 6940.267590   \n",
       "min                          31307.000000                    0.000000   \n",
       "25%                          47106.000000                    0.000000   \n",
       "50%                          55092.000000                  173.000000   \n",
       "75%                          64309.250000                 7342.000000   \n",
       "max                          77549.000000                32947.000000   \n",
       "\n",
       "       DE_wind_generation_actual  \n",
       "count               50326.000000  \n",
       "mean                11552.234650  \n",
       "std                  9076.350769  \n",
       "min                   135.000000  \n",
       "25%                  4506.000000  \n",
       "50%                  9015.000000  \n",
       "75%                 16113.750000  \n",
       "max                 46064.000000  "
      ]
     },
     "execution_count": 14,
     "metadata": {},
     "output_type": "execute_result"
    }
   ],
   "source": [
    "#df = df / 1000\n",
    "df.describe()\n",
    "\n",
    "#486TWh pro Jahr\n"
   ]
  },
  {
   "cell_type": "code",
   "execution_count": 15,
   "metadata": {},
   "outputs": [
    {
     "name": "stdout",
     "output_type": "stream",
     "text": [
      "<class 'pandas.core.frame.DataFrame'>\n",
      "RangeIndex: 50401 entries, 0 to 50400\n",
      "Data columns (total 5 columns):\n",
      " #   Column                              Non-Null Count  Dtype  \n",
      "---  ------                              --------------  -----  \n",
      " 0   utc_timestamp                       50401 non-null  object \n",
      " 1   cet_cest_timestamp                  50401 non-null  object \n",
      " 2   DE_load_actual_entsoe_transparency  50400 non-null  float64\n",
      " 3   DE_solar_generation_actual          50297 non-null  float64\n",
      " 4   DE_wind_generation_actual           50326 non-null  float64\n",
      "dtypes: float64(3), object(2)\n",
      "memory usage: 1.9+ MB\n"
     ]
    }
   ],
   "source": [
    "df.info()\n",
    "\n",
    "# 50000 steps = 2000 days = 5 1/2 years\n"
   ]
  },
  {
   "cell_type": "code",
   "execution_count": 16,
   "metadata": {},
   "outputs": [
    {
     "data": {
      "text/html": [
       "<div>\n",
       "<style scoped>\n",
       "    .dataframe tbody tr th:only-of-type {\n",
       "        vertical-align: middle;\n",
       "    }\n",
       "\n",
       "    .dataframe tbody tr th {\n",
       "        vertical-align: top;\n",
       "    }\n",
       "\n",
       "    .dataframe thead th {\n",
       "        text-align: right;\n",
       "    }\n",
       "</style>\n",
       "<table border=\"1\" class=\"dataframe\">\n",
       "  <thead>\n",
       "    <tr style=\"text-align: right;\">\n",
       "      <th></th>\n",
       "      <th>utc_timestamp</th>\n",
       "      <th>cet_cest_timestamp</th>\n",
       "      <th>DE_load_actual_entsoe_transparency</th>\n",
       "      <th>DE_solar_generation_actual</th>\n",
       "      <th>DE_wind_generation_actual</th>\n",
       "    </tr>\n",
       "  </thead>\n",
       "  <tbody>\n",
       "    <tr>\n",
       "      <th>0</th>\n",
       "      <td>2014-12-31T23:00:00Z</td>\n",
       "      <td>2015-01-01T00:00:00+0100</td>\n",
       "      <td>NaN</td>\n",
       "      <td>NaN</td>\n",
       "      <td>NaN</td>\n",
       "    </tr>\n",
       "    <tr>\n",
       "      <th>1</th>\n",
       "      <td>2015-01-01T00:00:00Z</td>\n",
       "      <td>2015-01-01T01:00:00+0100</td>\n",
       "      <td>41151.0</td>\n",
       "      <td>NaN</td>\n",
       "      <td>8852.0</td>\n",
       "    </tr>\n",
       "    <tr>\n",
       "      <th>2</th>\n",
       "      <td>2015-01-01T01:00:00Z</td>\n",
       "      <td>2015-01-01T02:00:00+0100</td>\n",
       "      <td>40135.0</td>\n",
       "      <td>NaN</td>\n",
       "      <td>9054.0</td>\n",
       "    </tr>\n",
       "    <tr>\n",
       "      <th>3</th>\n",
       "      <td>2015-01-01T02:00:00Z</td>\n",
       "      <td>2015-01-01T03:00:00+0100</td>\n",
       "      <td>39106.0</td>\n",
       "      <td>NaN</td>\n",
       "      <td>9070.0</td>\n",
       "    </tr>\n",
       "    <tr>\n",
       "      <th>4</th>\n",
       "      <td>2015-01-01T03:00:00Z</td>\n",
       "      <td>2015-01-01T04:00:00+0100</td>\n",
       "      <td>38765.0</td>\n",
       "      <td>NaN</td>\n",
       "      <td>9163.0</td>\n",
       "    </tr>\n",
       "  </tbody>\n",
       "</table>\n",
       "</div>"
      ],
      "text/plain": [
       "          utc_timestamp        cet_cest_timestamp  \\\n",
       "0  2014-12-31T23:00:00Z  2015-01-01T00:00:00+0100   \n",
       "1  2015-01-01T00:00:00Z  2015-01-01T01:00:00+0100   \n",
       "2  2015-01-01T01:00:00Z  2015-01-01T02:00:00+0100   \n",
       "3  2015-01-01T02:00:00Z  2015-01-01T03:00:00+0100   \n",
       "4  2015-01-01T03:00:00Z  2015-01-01T04:00:00+0100   \n",
       "\n",
       "   DE_load_actual_entsoe_transparency  DE_solar_generation_actual  \\\n",
       "0                                 NaN                         NaN   \n",
       "1                             41151.0                         NaN   \n",
       "2                             40135.0                         NaN   \n",
       "3                             39106.0                         NaN   \n",
       "4                             38765.0                         NaN   \n",
       "\n",
       "   DE_wind_generation_actual  \n",
       "0                        NaN  \n",
       "1                     8852.0  \n",
       "2                     9054.0  \n",
       "3                     9070.0  \n",
       "4                     9163.0  "
      ]
     },
     "execution_count": 16,
     "metadata": {},
     "output_type": "execute_result"
    }
   ],
   "source": [
    "df.head()"
   ]
  },
  {
   "cell_type": "code",
   "execution_count": 17,
   "metadata": {},
   "outputs": [
    {
     "name": "stdout",
     "output_type": "stream",
     "text": [
      "DatetimeIndex(['2015-01-01 01:00:00+00:00'], dtype='datetime64[ns, UTC]', name='utc_timestamp', freq=None)\n"
     ]
    }
   ],
   "source": [
    "\n",
    "\n",
    "df = df.set_index([\"utc_timestamp\"])\n",
    "df.index = pd.to_datetime(df.index)\n",
    "#df.drop(columns=\"utc_timestamp\")\n",
    "df\n",
    "print(df.iloc[[2]].index)\n"
   ]
  },
  {
   "cell_type": "markdown",
   "metadata": {},
   "source": [
    "## Cyclic features"
   ]
  },
  {
   "cell_type": "code",
   "execution_count": 18,
   "metadata": {},
   "outputs": [
    {
     "ename": "KeyError",
     "evalue": "'utc_timestamp'",
     "output_type": "error",
     "traceback": [
      "\u001b[0;31m---------------------------------------------------------------------------\u001b[0m",
      "\u001b[0;31mKeyError\u001b[0m                                  Traceback (most recent call last)",
      "File \u001b[0;32m/opt/homebrew/Caskroom/miniforge/base/envs/thesis/lib/python3.11/site-packages/pandas/core/indexes/base.py:3790\u001b[0m, in \u001b[0;36mIndex.get_loc\u001b[0;34m(self, key)\u001b[0m\n\u001b[1;32m   3789\u001b[0m \u001b[39mtry\u001b[39;00m:\n\u001b[0;32m-> 3790\u001b[0m     \u001b[39mreturn\u001b[39;00m \u001b[39mself\u001b[39;49m\u001b[39m.\u001b[39;49m_engine\u001b[39m.\u001b[39;49mget_loc(casted_key)\n\u001b[1;32m   3791\u001b[0m \u001b[39mexcept\u001b[39;00m \u001b[39mKeyError\u001b[39;00m \u001b[39mas\u001b[39;00m err:\n",
      "File \u001b[0;32mindex.pyx:152\u001b[0m, in \u001b[0;36mpandas._libs.index.IndexEngine.get_loc\u001b[0;34m()\u001b[0m\n",
      "File \u001b[0;32mindex.pyx:181\u001b[0m, in \u001b[0;36mpandas._libs.index.IndexEngine.get_loc\u001b[0;34m()\u001b[0m\n",
      "File \u001b[0;32mpandas/_libs/hashtable_class_helper.pxi:7080\u001b[0m, in \u001b[0;36mpandas._libs.hashtable.PyObjectHashTable.get_item\u001b[0;34m()\u001b[0m\n",
      "File \u001b[0;32mpandas/_libs/hashtable_class_helper.pxi:7088\u001b[0m, in \u001b[0;36mpandas._libs.hashtable.PyObjectHashTable.get_item\u001b[0;34m()\u001b[0m\n",
      "\u001b[0;31mKeyError\u001b[0m: 'utc_timestamp'",
      "\nThe above exception was the direct cause of the following exception:\n",
      "\u001b[0;31mKeyError\u001b[0m                                  Traceback (most recent call last)",
      "\u001b[1;32m/Users/timw/Documents/University/thesis/exp/data_exploration.ipynb Cell 8\u001b[0m line \u001b[0;36m4\n\u001b[1;32m      <a href='vscode-notebook-cell:/Users/timw/Documents/University/thesis/exp/data_exploration.ipynb#W6sZmlsZQ%3D%3D?line=0'>1</a>\u001b[0m df \u001b[39m=\u001b[39m df\u001b[39m.\u001b[39mdrop(columns\u001b[39m=\u001b[39m\u001b[39m\"\u001b[39m\u001b[39mcet_cest_timestamp\u001b[39m\u001b[39m\"\u001b[39m)\n\u001b[1;32m      <a href='vscode-notebook-cell:/Users/timw/Documents/University/thesis/exp/data_exploration.ipynb#W6sZmlsZQ%3D%3D?line=2'>3</a>\u001b[0m  \u001b[39m# Add time features\u001b[39;00m\n\u001b[0;32m----> <a href='vscode-notebook-cell:/Users/timw/Documents/University/thesis/exp/data_exploration.ipynb#W6sZmlsZQ%3D%3D?line=3'>4</a>\u001b[0m df[\u001b[39m\"\u001b[39m\u001b[39mdate\u001b[39m\u001b[39m\"\u001b[39m] \u001b[39m=\u001b[39m pd\u001b[39m.\u001b[39mto_datetime(df[\u001b[39m\"\u001b[39;49m\u001b[39mutc_timestamp\u001b[39;49m\u001b[39m\"\u001b[39;49m])\n\u001b[1;32m      <a href='vscode-notebook-cell:/Users/timw/Documents/University/thesis/exp/data_exploration.ipynb#W6sZmlsZQ%3D%3D?line=4'>5</a>\u001b[0m df[\u001b[39m\"\u001b[39m\u001b[39myear\u001b[39m\u001b[39m\"\u001b[39m] \u001b[39m=\u001b[39m df[\u001b[39m\"\u001b[39m\u001b[39mdate\u001b[39m\u001b[39m\"\u001b[39m]\u001b[39m.\u001b[39mdt\u001b[39m.\u001b[39myear\n\u001b[1;32m      <a href='vscode-notebook-cell:/Users/timw/Documents/University/thesis/exp/data_exploration.ipynb#W6sZmlsZQ%3D%3D?line=5'>6</a>\u001b[0m df[\u001b[39m\"\u001b[39m\u001b[39mmonth\u001b[39m\u001b[39m\"\u001b[39m] \u001b[39m=\u001b[39m df[\u001b[39m\"\u001b[39m\u001b[39mdate\u001b[39m\u001b[39m\"\u001b[39m]\u001b[39m.\u001b[39mdt\u001b[39m.\u001b[39mmonth\n",
      "File \u001b[0;32m/opt/homebrew/Caskroom/miniforge/base/envs/thesis/lib/python3.11/site-packages/pandas/core/frame.py:3896\u001b[0m, in \u001b[0;36mDataFrame.__getitem__\u001b[0;34m(self, key)\u001b[0m\n\u001b[1;32m   3894\u001b[0m \u001b[39mif\u001b[39;00m \u001b[39mself\u001b[39m\u001b[39m.\u001b[39mcolumns\u001b[39m.\u001b[39mnlevels \u001b[39m>\u001b[39m \u001b[39m1\u001b[39m:\n\u001b[1;32m   3895\u001b[0m     \u001b[39mreturn\u001b[39;00m \u001b[39mself\u001b[39m\u001b[39m.\u001b[39m_getitem_multilevel(key)\n\u001b[0;32m-> 3896\u001b[0m indexer \u001b[39m=\u001b[39m \u001b[39mself\u001b[39;49m\u001b[39m.\u001b[39;49mcolumns\u001b[39m.\u001b[39;49mget_loc(key)\n\u001b[1;32m   3897\u001b[0m \u001b[39mif\u001b[39;00m is_integer(indexer):\n\u001b[1;32m   3898\u001b[0m     indexer \u001b[39m=\u001b[39m [indexer]\n",
      "File \u001b[0;32m/opt/homebrew/Caskroom/miniforge/base/envs/thesis/lib/python3.11/site-packages/pandas/core/indexes/base.py:3797\u001b[0m, in \u001b[0;36mIndex.get_loc\u001b[0;34m(self, key)\u001b[0m\n\u001b[1;32m   3792\u001b[0m     \u001b[39mif\u001b[39;00m \u001b[39misinstance\u001b[39m(casted_key, \u001b[39mslice\u001b[39m) \u001b[39mor\u001b[39;00m (\n\u001b[1;32m   3793\u001b[0m         \u001b[39misinstance\u001b[39m(casted_key, abc\u001b[39m.\u001b[39mIterable)\n\u001b[1;32m   3794\u001b[0m         \u001b[39mand\u001b[39;00m \u001b[39many\u001b[39m(\u001b[39misinstance\u001b[39m(x, \u001b[39mslice\u001b[39m) \u001b[39mfor\u001b[39;00m x \u001b[39min\u001b[39;00m casted_key)\n\u001b[1;32m   3795\u001b[0m     ):\n\u001b[1;32m   3796\u001b[0m         \u001b[39mraise\u001b[39;00m InvalidIndexError(key)\n\u001b[0;32m-> 3797\u001b[0m     \u001b[39mraise\u001b[39;00m \u001b[39mKeyError\u001b[39;00m(key) \u001b[39mfrom\u001b[39;00m \u001b[39merr\u001b[39;00m\n\u001b[1;32m   3798\u001b[0m \u001b[39mexcept\u001b[39;00m \u001b[39mTypeError\u001b[39;00m:\n\u001b[1;32m   3799\u001b[0m     \u001b[39m# If we have a listlike key, _check_indexing_error will raise\u001b[39;00m\n\u001b[1;32m   3800\u001b[0m     \u001b[39m#  InvalidIndexError. Otherwise we fall through and re-raise\u001b[39;00m\n\u001b[1;32m   3801\u001b[0m     \u001b[39m#  the TypeError.\u001b[39;00m\n\u001b[1;32m   3802\u001b[0m     \u001b[39mself\u001b[39m\u001b[39m.\u001b[39m_check_indexing_error(key)\n",
      "\u001b[0;31mKeyError\u001b[0m: 'utc_timestamp'"
     ]
    }
   ],
   "source": [
    "df = df.drop(columns=\"cet_cest_timestamp\")\n",
    "\n",
    " # Add time features\n",
    "df[\"date\"] = pd.to_datetime(df[\"utc_timestamp\"])\n",
    "df[\"year\"] = df[\"date\"].dt.year\n",
    "df[\"month\"] = df[\"date\"].dt.month\n",
    "df[\"day\"] = df[\"date\"].dt.day\n",
    "df[\"dayofweek\"] = df[\"date\"].dt.dayofweek\n",
    "df[\"hour\"] = df[\"date\"].dt.hour\n",
    "# Make month and hour cyclic\n",
    "# Need two dimensions (sin and cos) because only one would be ambgious (e.g. y=0.5 at two locations)\n",
    "# period of sin(bx) or cos(bx) is p = 2*pi / b. We want p to be period of 12 (month), 7 (daysofweek) or 24(hours) respectively\n",
    "df[\"month_sin\"] = np.sin(2 * np.pi * df[\"month\"]/12)\n",
    "df[\"month_cos\"] = np.cos(2 * np.pi * df[\"month\"]/12)\n",
    "#df = df.drop(columns=\"month\")\n",
    "df[\"dayofweek_sin\"] = np.sin(2 * np.pi * df[\"dayofweek\"]/7)\n",
    "df[\"dayofweek_cos\"] = np.cos(2 * np.pi * df[\"dayofweek\"]/7)\n",
    "#df = df.drop(columns=\"dayofweek\")\n",
    "df[\"hour_sin\"] = np.sin(2 * np.pi * df[\"hour\"]/24)\n",
    "df[\"hour_cos\"] = np.cos(2 * np.pi * df[\"hour\"]/24)\n",
    "#df = df.drop(columns=\"hour\")\n",
    "\n",
    "\n",
    "print(df[[\"dayofweek\", \"dayofweek_sin\", \"dayofweek_cos\"]].groupby(\"dayofweek\").mean())\n",
    "print(df[[\"month\", \"month_sin\", \"month_cos\"]].groupby(\"month\").mean())\n",
    "df.head(30)"
   ]
  },
  {
   "cell_type": "code",
   "execution_count": null,
   "metadata": {},
   "outputs": [
    {
     "name": "stdout",
     "output_type": "stream",
     "text": [
      "<class 'pandas.core.frame.DataFrame'>\n",
      "RangeIndex: 50401 entries, 0 to 50400\n",
      "Data columns (total 16 columns):\n",
      " #   Column                              Non-Null Count  Dtype              \n",
      "---  ------                              --------------  -----              \n",
      " 0   utc_timestamp                       50401 non-null  object             \n",
      " 1   DE_load_actual_entsoe_transparency  50400 non-null  float64            \n",
      " 2   DE_solar_generation_actual          50297 non-null  float64            \n",
      " 3   DE_wind_generation_actual           50326 non-null  float64            \n",
      " 4   date                                50401 non-null  datetime64[ns, UTC]\n",
      " 5   year                                50401 non-null  int32              \n",
      " 6   month                               50401 non-null  int32              \n",
      " 7   day                                 50401 non-null  int32              \n",
      " 8   dayofweek                           50401 non-null  int32              \n",
      " 9   hour                                50401 non-null  int32              \n",
      " 10  month_sin                           50401 non-null  float64            \n",
      " 11  month_cos                           50401 non-null  float64            \n",
      " 12  dayofweek_sin                       50401 non-null  float64            \n",
      " 13  dayofweek_cos                       50401 non-null  float64            \n",
      " 14  hour_sin                            50401 non-null  float64            \n",
      " 15  hour_cos                            50401 non-null  float64            \n",
      "dtypes: datetime64[ns, UTC](1), float64(9), int32(5), object(1)\n",
      "memory usage: 5.2+ MB\n"
     ]
    }
   ],
   "source": [
    "df.info()"
   ]
  },
  {
   "cell_type": "markdown",
   "metadata": {},
   "source": [
    "## Autocorrelation and Partial Autocorrelation"
   ]
  },
  {
   "cell_type": "code",
   "execution_count": null,
   "metadata": {},
   "outputs": [
    {
     "ename": "ValueError",
     "evalue": "could not convert string to float: '2014-12-31T23:00:00Z'",
     "output_type": "error",
     "traceback": [
      "\u001b[0;31m---------------------------------------------------------------------------\u001b[0m",
      "\u001b[0;31mValueError\u001b[0m                                Traceback (most recent call last)",
      "\u001b[1;32m/Users/timw/Documents/University/thesis/exp/data_exploration.ipynb Cell 11\u001b[0m line \u001b[0;36m7\n\u001b[1;32m      <a href='vscode-notebook-cell:/Users/timw/Documents/University/thesis/exp/data_exploration.ipynb#X12sZmlsZQ%3D%3D?line=3'>4</a>\u001b[0m fig, ax \u001b[39m=\u001b[39m plt\u001b[39m.\u001b[39msubplots(\u001b[39m1\u001b[39m,\u001b[39m1\u001b[39m)\n\u001b[1;32m      <a href='vscode-notebook-cell:/Users/timw/Documents/University/thesis/exp/data_exploration.ipynb#X12sZmlsZQ%3D%3D?line=5'>6</a>\u001b[0m \u001b[39mfor\u001b[39;00m column \u001b[39min\u001b[39;00m df:\n\u001b[0;32m----> <a href='vscode-notebook-cell:/Users/timw/Documents/University/thesis/exp/data_exploration.ipynb#X12sZmlsZQ%3D%3D?line=6'>7</a>\u001b[0m     df_autocorr[column] \u001b[39m=\u001b[39m [df[column]\u001b[39m.\u001b[39;49mautocorr(lag\u001b[39m=\u001b[39;49mlag) \u001b[39mfor\u001b[39;49;00m lag \u001b[39min\u001b[39;49;00m lags]\n\u001b[1;32m      <a href='vscode-notebook-cell:/Users/timw/Documents/University/thesis/exp/data_exploration.ipynb#X12sZmlsZQ%3D%3D?line=7'>8</a>\u001b[0m     ax\u001b[39m.\u001b[39mplot(lags, df_autocorr[column], label\u001b[39m=\u001b[39mcolumn)\n\u001b[1;32m     <a href='vscode-notebook-cell:/Users/timw/Documents/University/thesis/exp/data_exploration.ipynb#X12sZmlsZQ%3D%3D?line=9'>10</a>\u001b[0m ax\u001b[39m.\u001b[39mlegend()\n",
      "\u001b[1;32m/Users/timw/Documents/University/thesis/exp/data_exploration.ipynb Cell 11\u001b[0m line \u001b[0;36m7\n\u001b[1;32m      <a href='vscode-notebook-cell:/Users/timw/Documents/University/thesis/exp/data_exploration.ipynb#X12sZmlsZQ%3D%3D?line=3'>4</a>\u001b[0m fig, ax \u001b[39m=\u001b[39m plt\u001b[39m.\u001b[39msubplots(\u001b[39m1\u001b[39m,\u001b[39m1\u001b[39m)\n\u001b[1;32m      <a href='vscode-notebook-cell:/Users/timw/Documents/University/thesis/exp/data_exploration.ipynb#X12sZmlsZQ%3D%3D?line=5'>6</a>\u001b[0m \u001b[39mfor\u001b[39;00m column \u001b[39min\u001b[39;00m df:\n\u001b[0;32m----> <a href='vscode-notebook-cell:/Users/timw/Documents/University/thesis/exp/data_exploration.ipynb#X12sZmlsZQ%3D%3D?line=6'>7</a>\u001b[0m     df_autocorr[column] \u001b[39m=\u001b[39m [df[column]\u001b[39m.\u001b[39;49mautocorr(lag\u001b[39m=\u001b[39;49mlag) \u001b[39mfor\u001b[39;00m lag \u001b[39min\u001b[39;00m lags]\n\u001b[1;32m      <a href='vscode-notebook-cell:/Users/timw/Documents/University/thesis/exp/data_exploration.ipynb#X12sZmlsZQ%3D%3D?line=7'>8</a>\u001b[0m     ax\u001b[39m.\u001b[39mplot(lags, df_autocorr[column], label\u001b[39m=\u001b[39mcolumn)\n\u001b[1;32m     <a href='vscode-notebook-cell:/Users/timw/Documents/University/thesis/exp/data_exploration.ipynb#X12sZmlsZQ%3D%3D?line=9'>10</a>\u001b[0m ax\u001b[39m.\u001b[39mlegend()\n",
      "File \u001b[0;32m/opt/homebrew/Caskroom/miniforge/base/envs/thesis/lib/python3.11/site-packages/pandas/core/series.py:3050\u001b[0m, in \u001b[0;36mSeries.autocorr\u001b[0;34m(self, lag)\u001b[0m\n\u001b[1;32m   3007\u001b[0m \u001b[39mdef\u001b[39;00m \u001b[39mautocorr\u001b[39m(\u001b[39mself\u001b[39m, lag: \u001b[39mint\u001b[39m \u001b[39m=\u001b[39m \u001b[39m1\u001b[39m) \u001b[39m-\u001b[39m\u001b[39m>\u001b[39m \u001b[39mfloat\u001b[39m:\n\u001b[1;32m   3008\u001b[0m \u001b[39m    \u001b[39m\u001b[39m\"\"\"\u001b[39;00m\n\u001b[1;32m   3009\u001b[0m \u001b[39m    Compute the lag-N autocorrelation.\u001b[39;00m\n\u001b[1;32m   3010\u001b[0m \n\u001b[0;32m   (...)\u001b[0m\n\u001b[1;32m   3048\u001b[0m \u001b[39m    nan\u001b[39;00m\n\u001b[1;32m   3049\u001b[0m \u001b[39m    \"\"\"\u001b[39;00m\n\u001b[0;32m-> 3050\u001b[0m     \u001b[39mreturn\u001b[39;00m \u001b[39mself\u001b[39;49m\u001b[39m.\u001b[39;49mcorr(cast(Series, \u001b[39mself\u001b[39;49m\u001b[39m.\u001b[39;49mshift(lag)))\n",
      "File \u001b[0;32m/opt/homebrew/Caskroom/miniforge/base/envs/thesis/lib/python3.11/site-packages/pandas/core/series.py:2855\u001b[0m, in \u001b[0;36mSeries.corr\u001b[0;34m(self, other, method, min_periods)\u001b[0m\n\u001b[1;32m   2852\u001b[0m \u001b[39mif\u001b[39;00m \u001b[39mlen\u001b[39m(this) \u001b[39m==\u001b[39m \u001b[39m0\u001b[39m:\n\u001b[1;32m   2853\u001b[0m     \u001b[39mreturn\u001b[39;00m np\u001b[39m.\u001b[39mnan\n\u001b[0;32m-> 2855\u001b[0m this_values \u001b[39m=\u001b[39m this\u001b[39m.\u001b[39;49mto_numpy(dtype\u001b[39m=\u001b[39;49m\u001b[39mfloat\u001b[39;49m, na_value\u001b[39m=\u001b[39;49mnp\u001b[39m.\u001b[39;49mnan, copy\u001b[39m=\u001b[39;49m\u001b[39mFalse\u001b[39;49;00m)\n\u001b[1;32m   2856\u001b[0m other_values \u001b[39m=\u001b[39m other\u001b[39m.\u001b[39mto_numpy(dtype\u001b[39m=\u001b[39m\u001b[39mfloat\u001b[39m, na_value\u001b[39m=\u001b[39mnp\u001b[39m.\u001b[39mnan, copy\u001b[39m=\u001b[39m\u001b[39mFalse\u001b[39;00m)\n\u001b[1;32m   2858\u001b[0m \u001b[39mif\u001b[39;00m method \u001b[39min\u001b[39;00m [\u001b[39m\"\u001b[39m\u001b[39mpearson\u001b[39m\u001b[39m\"\u001b[39m, \u001b[39m\"\u001b[39m\u001b[39mspearman\u001b[39m\u001b[39m\"\u001b[39m, \u001b[39m\"\u001b[39m\u001b[39mkendall\u001b[39m\u001b[39m\"\u001b[39m] \u001b[39mor\u001b[39;00m \u001b[39mcallable\u001b[39m(method):\n",
      "File \u001b[0;32m/opt/homebrew/Caskroom/miniforge/base/envs/thesis/lib/python3.11/site-packages/pandas/core/base.py:662\u001b[0m, in \u001b[0;36mIndexOpsMixin.to_numpy\u001b[0;34m(self, dtype, copy, na_value, **kwargs)\u001b[0m\n\u001b[1;32m    658\u001b[0m         values \u001b[39m=\u001b[39m values\u001b[39m.\u001b[39mcopy()\n\u001b[1;32m    660\u001b[0m     values[np\u001b[39m.\u001b[39masanyarray(isna(\u001b[39mself\u001b[39m))] \u001b[39m=\u001b[39m na_value\n\u001b[0;32m--> 662\u001b[0m result \u001b[39m=\u001b[39m np\u001b[39m.\u001b[39;49masarray(values, dtype\u001b[39m=\u001b[39;49mdtype)\n\u001b[1;32m    664\u001b[0m \u001b[39mif\u001b[39;00m (copy \u001b[39mand\u001b[39;00m \u001b[39mnot\u001b[39;00m fillna) \u001b[39mor\u001b[39;00m (\u001b[39mnot\u001b[39;00m copy \u001b[39mand\u001b[39;00m using_copy_on_write()):\n\u001b[1;32m    665\u001b[0m     \u001b[39mif\u001b[39;00m np\u001b[39m.\u001b[39mshares_memory(\u001b[39mself\u001b[39m\u001b[39m.\u001b[39m_values[:\u001b[39m2\u001b[39m], result[:\u001b[39m2\u001b[39m]):\n\u001b[1;32m    666\u001b[0m         \u001b[39m# Take slices to improve performance of check\u001b[39;00m\n",
      "\u001b[0;31mValueError\u001b[0m: could not convert string to float: '2014-12-31T23:00:00Z'"
     ]
    },
    {
     "data": {
      "image/png": "[encoded data removed]",
      "text/plain": [
       "<Figure size 640x480 with 1 Axes>"
      ]
     },
     "metadata": {},
     "output_type": "display_data"
    }
   ],
   "source": [
    "number_of_lags = 24\n",
    "lags = range(number_of_lags)\n",
    "df_autocorr = pd.DataFrame(index=lags)\n",
    "fig, ax = plt.subplots(1,1)\n",
    "\n",
    "for column in df:\n",
    "    df_autocorr[column] = [df[column].autocorr(lag=lag) for lag in lags]\n",
    "    ax.plot(lags, df_autocorr[column], label=column)\n",
    "\n",
    "ax.legend()\n",
    "ax.set_xticks(range(0, number_of_lags, 12))\n",
    "ax.grid(True)\n",
    "\n",
    "plt.show()\n",
    "# hourly data -> 24 step = 1 day"
   ]
  },
  {
   "cell_type": "code",
   "execution_count": null,
   "metadata": {},
   "outputs": [],
   "source": [
    "import statsmodels.api as sm\n",
    "\n",
    "fig, ax = plt.subplots(3,2, figsize=(14,10))\n",
    "\n",
    "for i, column in enumerate(df):\n",
    "    print(column)\n",
    "    sm.graphics.tsa.plot_acf(df[column], lags=number_of_lags, ax=ax[i,0], missing=\"conservative\")\n",
    "    sm.graphics.tsa.plot_pacf(df[column], lags=number_of_lags, ax=ax[i,1])\n",
    "\n",
    "plt.show()"
   ]
  },
  {
   "cell_type": "code",
   "execution_count": null,
   "metadata": {},
   "outputs": [
    {
     "name": "stdout",
     "output_type": "stream",
     "text": [
      "<class 'pandas.core.frame.DataFrame'>\n",
      "DatetimeIndex: 50401 entries, 2014-12-31 23:00:00+00:00 to 2020-09-30 23:00:00+00:00\n",
      "Data columns (total 3 columns):\n",
      " #   Column                              Non-Null Count  Dtype  \n",
      "---  ------                              --------------  -----  \n",
      " 0   DE_load_actual_entsoe_transparency  50401 non-null  float64\n",
      " 1   DE_solar_generation_actual          50401 non-null  float64\n",
      " 2   DE_wind_generation_actual           50401 non-null  float64\n",
      "dtypes: float64(3)\n",
      "memory usage: 1.5 MB\n",
      "50401\n"
     ]
    }
   ],
   "source": [
    "df.info()\n",
    "print(len(df))"
   ]
  },
  {
   "cell_type": "markdown",
   "metadata": {},
   "source": [
    "## Linear Regression"
   ]
  },
  {
   "cell_type": "code",
   "execution_count": null,
   "metadata": {},
   "outputs": [],
   "source": [
    "\n"
   ]
  },
  {
   "cell_type": "code",
   "execution_count": null,
   "metadata": {},
   "outputs": [],
   "source": [
    "\n",
    "\n"
   ]
  },
  {
   "cell_type": "code",
   "execution_count": null,
   "metadata": {},
   "outputs": [],
   "source": []
  }
 ],
 "metadata": {
  "kernelspec": {
   "display_name": "thesis",
   "language": "python",
   "name": "python3"
  },
  "language_info": {
   "codemirror_mode": {
    "name": "ipython",
    "version": 3
   },
   "file_extension": ".py",
   "mimetype": "text/x-python",
   "name": "python",
   "nbconvert_exporter": "python",
   "pygments_lexer": "ipython3",
   "version": "3.11.5"
  }
 },
 "nbformat": 4,
 "nbformat_minor": 2
}
