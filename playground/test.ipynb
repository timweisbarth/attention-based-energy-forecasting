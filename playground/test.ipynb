{
 "cells": [
  {
   "cell_type": "code",
   "execution_count": 2,
   "metadata": {},
   "outputs": [
    {
     "name": "stdout",
     "output_type": "stream",
     "text": [
      "[3]\n"
     ]
    }
   ],
   "source": [
    "test = [1,2,3]\n",
    "print(test[-1:])\n",
    "import sys\n",
    "sys.path.append(\"./../utils/\")\n",
    "import numpy as np\n",
    "from sklearn.preprocessing import MinMaxScaler\n",
    "import matplotlib.pyplot as plt\n",
    "import pandas as pd\n",
    "\n",
    "#Modules of src folder\n",
    "import preproc as pp"
   ]
  },
  {
   "cell_type": "code",
   "execution_count": 3,
   "metadata": {},
   "outputs": [
    {
     "ename": "AttributeError",
     "evalue": "module 'preproc' has no attribute 'load_data'",
     "output_type": "error",
     "traceback": [
      "\u001b[0;31m---------------------------------------------------------------------------\u001b[0m",
      "\u001b[0;31mAttributeError\u001b[0m                            Traceback (most recent call last)",
      "Cell \u001b[0;32mIn[3], line 7\u001b[0m\n\u001b[1;32m      4\u001b[0m \u001b[38;5;28;01mfrom\u001b[39;00m \u001b[38;5;21;01mworkalendar\u001b[39;00m\u001b[38;5;21;01m.\u001b[39;00m\u001b[38;5;21;01meurope\u001b[39;00m \u001b[38;5;28;01mimport\u001b[39;00m Germany\n\u001b[1;32m      5\u001b[0m \u001b[38;5;28;01mimport\u001b[39;00m \u001b[38;5;21;01mnumpy\u001b[39;00m \u001b[38;5;28;01mas\u001b[39;00m \u001b[38;5;21;01mnp\u001b[39;00m\n\u001b[0;32m----> 7\u001b[0m df \u001b[38;5;241m=\u001b[39m \u001b[43mpp\u001b[49m\u001b[38;5;241;43m.\u001b[39;49m\u001b[43mload_data\u001b[49m(\u001b[38;5;124m\"\u001b[39m\u001b[38;5;124m./../data/ts_60_sindex_DE_3f.csv\u001b[39m\u001b[38;5;124m\"\u001b[39m)\n\u001b[1;32m      8\u001b[0m df \u001b[38;5;241m=\u001b[39m pp\u001b[38;5;241m.\u001b[39mpreprocess(df)\n\u001b[1;32m      9\u001b[0m df \u001b[38;5;241m=\u001b[39m df[[\u001b[38;5;124m\"\u001b[39m\u001b[38;5;124mDE_load_actual_entsoe_transparency\u001b[39m\u001b[38;5;124m\"\u001b[39m, \u001b[38;5;124m\"\u001b[39m\u001b[38;5;124myear\u001b[39m\u001b[38;5;124m\"\u001b[39m, \u001b[38;5;124m\"\u001b[39m\u001b[38;5;124mday\u001b[39m\u001b[38;5;124m\"\u001b[39m]]\u001b[38;5;241m.\u001b[39miloc[\u001b[38;5;241m24\u001b[39m\u001b[38;5;241m*\u001b[39m\u001b[38;5;241m92\u001b[39m:\u001b[38;5;241m24\u001b[39m\u001b[38;5;241m*\u001b[39m\u001b[38;5;241m98\u001b[39m]\n",
      "\u001b[0;31mAttributeError\u001b[0m: module 'preproc' has no attribute 'load_data'"
     ]
    }
   ],
   "source": [
    "import pandas as pd\n",
    "from datetime import date\n",
    "import holidays\n",
    "from workalendar.europe import Germany\n",
    "import numpy as np\n",
    "\n",
    "df = pp.load_data(\"./../data/ts_60_sindex_DE_3f.csv\")\n",
    "df = pp.preprocess(df)\n",
    "df = df[[\"DE_load_actual_entsoe_transparency\", \"year\", \"day\"]].iloc[24*92:24*98]\n",
    "\n",
    "years = range(2015,2021,1)\n",
    "holidays_GER = [holiday for holiday in holidays.Germany(years=years)]\n",
    "df_dates = pd.DataFrame(df.index.date)\n",
    "print(holidays_GER)\n",
    "df[\"isholiday\"] = df_dates.isin(holidays_GER).values.astype(int)\n",
    "df_dayofweek = pd.DataFrame(df.index.dayofweek)\n",
    "df[\"isSunday\"] = df_dayofweek.isin([6]).values.astype(int)\n",
    "df[\"isSaturday\"] = df_dayofweek.isin([5]).values.astype(int)\n",
    "df.head(30)\n",
    "\n"
   ]
  },
  {
   "cell_type": "code",
   "execution_count": null,
   "metadata": {},
   "outputs": [
    {
     "ename": "KeyError",
     "evalue": "('DE_load_actual_entsoe_transparency', 'day')",
     "output_type": "error",
     "traceback": [
      "\u001b[0;31m---------------------------------------------------------------------------\u001b[0m",
      "\u001b[0;31mKeyError\u001b[0m                                  Traceback (most recent call last)",
      "File \u001b[0;32m/opt/homebrew/Caskroom/miniforge/base/envs/thesis/lib/python3.11/site-packages/pandas/core/indexes/base.py:3790\u001b[0m, in \u001b[0;36mIndex.get_loc\u001b[0;34m(self, key)\u001b[0m\n\u001b[1;32m   3789\u001b[0m \u001b[39mtry\u001b[39;00m:\n\u001b[0;32m-> 3790\u001b[0m     \u001b[39mreturn\u001b[39;00m \u001b[39mself\u001b[39;49m\u001b[39m.\u001b[39;49m_engine\u001b[39m.\u001b[39;49mget_loc(casted_key)\n\u001b[1;32m   3791\u001b[0m \u001b[39mexcept\u001b[39;00m \u001b[39mKeyError\u001b[39;00m \u001b[39mas\u001b[39;00m err:\n",
      "File \u001b[0;32mindex.pyx:152\u001b[0m, in \u001b[0;36mpandas._libs.index.IndexEngine.get_loc\u001b[0;34m()\u001b[0m\n",
      "File \u001b[0;32mindex.pyx:181\u001b[0m, in \u001b[0;36mpandas._libs.index.IndexEngine.get_loc\u001b[0;34m()\u001b[0m\n",
      "File \u001b[0;32mpandas/_libs/hashtable_class_helper.pxi:7080\u001b[0m, in \u001b[0;36mpandas._libs.hashtable.PyObjectHashTable.get_item\u001b[0;34m()\u001b[0m\n",
      "File \u001b[0;32mpandas/_libs/hashtable_class_helper.pxi:7088\u001b[0m, in \u001b[0;36mpandas._libs.hashtable.PyObjectHashTable.get_item\u001b[0;34m()\u001b[0m\n",
      "\u001b[0;31mKeyError\u001b[0m: ('DE_load_actual_entsoe_transparency', 'day')",
      "\nThe above exception was the direct cause of the following exception:\n",
      "\u001b[0;31mKeyError\u001b[0m                                  Traceback (most recent call last)",
      "\u001b[1;32m/Users/timw/Documents/University/thesis/Tutorials/test.ipynb Cell 3\u001b[0m line \u001b[0;36m7\n\u001b[1;32m      <a href='vscode-notebook-cell:/Users/timw/Documents/University/thesis/Tutorials/test.ipynb#W2sZmlsZQ%3D%3D?line=4'>5</a>\u001b[0m df \u001b[39m=\u001b[39m pp\u001b[39m.\u001b[39mload_data(\u001b[39m\"\u001b[39m\u001b[39m./../data/ts_60_sindex_DE_3f.csv\u001b[39m\u001b[39m\"\u001b[39m)\n\u001b[1;32m      <a href='vscode-notebook-cell:/Users/timw/Documents/University/thesis/Tutorials/test.ipynb#W2sZmlsZQ%3D%3D?line=5'>6</a>\u001b[0m df \u001b[39m=\u001b[39m pp\u001b[39m.\u001b[39mpreprocess(df)\n\u001b[0;32m----> <a href='vscode-notebook-cell:/Users/timw/Documents/University/thesis/Tutorials/test.ipynb#W2sZmlsZQ%3D%3D?line=6'>7</a>\u001b[0m df \u001b[39m=\u001b[39m df[\u001b[39m\"\u001b[39;49m\u001b[39mDE_load_actual_entsoe_transparency\u001b[39;49m\u001b[39m\"\u001b[39;49m,\u001b[39m\"\u001b[39;49m\u001b[39mday\u001b[39;49m\u001b[39m\"\u001b[39;49m]\u001b[39m.\u001b[39miloc[\u001b[39m0\u001b[39m:\u001b[39m1000\u001b[39m]\n\u001b[1;32m      <a href='vscode-notebook-cell:/Users/timw/Documents/University/thesis/Tutorials/test.ipynb#W2sZmlsZQ%3D%3D?line=8'>9</a>\u001b[0m \u001b[39m# Generate a list of holidays for the given years\u001b[39;00m\n\u001b[1;32m     <a href='vscode-notebook-cell:/Users/timw/Documents/University/thesis/Tutorials/test.ipynb#W2sZmlsZQ%3D%3D?line=9'>10</a>\u001b[0m years \u001b[39m=\u001b[39m \u001b[39mrange\u001b[39m(\u001b[39m2015\u001b[39m, \u001b[39m2021\u001b[39m)\n",
      "File \u001b[0;32m/opt/homebrew/Caskroom/miniforge/base/envs/thesis/lib/python3.11/site-packages/pandas/core/frame.py:3896\u001b[0m, in \u001b[0;36mDataFrame.__getitem__\u001b[0;34m(self, key)\u001b[0m\n\u001b[1;32m   3894\u001b[0m \u001b[39mif\u001b[39;00m \u001b[39mself\u001b[39m\u001b[39m.\u001b[39mcolumns\u001b[39m.\u001b[39mnlevels \u001b[39m>\u001b[39m \u001b[39m1\u001b[39m:\n\u001b[1;32m   3895\u001b[0m     \u001b[39mreturn\u001b[39;00m \u001b[39mself\u001b[39m\u001b[39m.\u001b[39m_getitem_multilevel(key)\n\u001b[0;32m-> 3896\u001b[0m indexer \u001b[39m=\u001b[39m \u001b[39mself\u001b[39;49m\u001b[39m.\u001b[39;49mcolumns\u001b[39m.\u001b[39;49mget_loc(key)\n\u001b[1;32m   3897\u001b[0m \u001b[39mif\u001b[39;00m is_integer(indexer):\n\u001b[1;32m   3898\u001b[0m     indexer \u001b[39m=\u001b[39m [indexer]\n",
      "File \u001b[0;32m/opt/homebrew/Caskroom/miniforge/base/envs/thesis/lib/python3.11/site-packages/pandas/core/indexes/base.py:3797\u001b[0m, in \u001b[0;36mIndex.get_loc\u001b[0;34m(self, key)\u001b[0m\n\u001b[1;32m   3792\u001b[0m     \u001b[39mif\u001b[39;00m \u001b[39misinstance\u001b[39m(casted_key, \u001b[39mslice\u001b[39m) \u001b[39mor\u001b[39;00m (\n\u001b[1;32m   3793\u001b[0m         \u001b[39misinstance\u001b[39m(casted_key, abc\u001b[39m.\u001b[39mIterable)\n\u001b[1;32m   3794\u001b[0m         \u001b[39mand\u001b[39;00m \u001b[39many\u001b[39m(\u001b[39misinstance\u001b[39m(x, \u001b[39mslice\u001b[39m) \u001b[39mfor\u001b[39;00m x \u001b[39min\u001b[39;00m casted_key)\n\u001b[1;32m   3795\u001b[0m     ):\n\u001b[1;32m   3796\u001b[0m         \u001b[39mraise\u001b[39;00m InvalidIndexError(key)\n\u001b[0;32m-> 3797\u001b[0m     \u001b[39mraise\u001b[39;00m \u001b[39mKeyError\u001b[39;00m(key) \u001b[39mfrom\u001b[39;00m \u001b[39merr\u001b[39;00m\n\u001b[1;32m   3798\u001b[0m \u001b[39mexcept\u001b[39;00m \u001b[39mTypeError\u001b[39;00m:\n\u001b[1;32m   3799\u001b[0m     \u001b[39m# If we have a listlike key, _check_indexing_error will raise\u001b[39;00m\n\u001b[1;32m   3800\u001b[0m     \u001b[39m#  InvalidIndexError. Otherwise we fall through and re-raise\u001b[39;00m\n\u001b[1;32m   3801\u001b[0m     \u001b[39m#  the TypeError.\u001b[39;00m\n\u001b[1;32m   3802\u001b[0m     \u001b[39mself\u001b[39m\u001b[39m.\u001b[39m_check_indexing_error(key)\n",
      "\u001b[0;31mKeyError\u001b[0m: ('DE_load_actual_entsoe_transparency', 'day')"
     ]
    }
   ],
   "source": [
    "import pandas as pd\n",
    "import holidays\n",
    "\n",
    "# Assuming your 'pp.load_data' and 'pp.preprocess' functions are defined elsewhere and working.\n",
    "df = pp.load_data(\"./../data/ts_60_sindex_DE_3f.csv\")\n",
    "df = pp.preprocess(df)\n",
    "df = df[\"DE_load_actual_entsoe_transparency\",\"day\"].iloc[0:1000]\n",
    "\n",
    "# Generate a list of holidays for the given years\n",
    "years = range(2015, 2021)\n",
    "holidays_GER = [date for year in years for date in holidays.Germany(years=year)]\n",
    "\n",
    "# Ensure that your dataframe index is of type datetime\n",
    "df.index = pd.to_datetime(df.index)\n",
    "\n",
    "series = pd.DataFrame(df.index.date)\n",
    "\n",
    "# Create the one-hot encoded column\n",
    "df['is_holiday'] = series.isin(holidays_GER).astype(int)\n",
    "\n",
    "print(df.head())\n",
    "print(df.columns)\n"
   ]
  },
  {
   "cell_type": "code",
   "execution_count": 4,
   "metadata": {},
   "outputs": [
    {
     "name": "stdout",
     "output_type": "stream",
     "text": [
      "0   10   20\n",
      "10   20   30\n"
     ]
    }
   ],
   "source": [
    "w = 10\n",
    "h = 10\n",
    "length = 33\n",
    "seq_length = w + h\n",
    "\n",
    "for i in range(0,length-seq_length, w):\n",
    "    print(i, \" \", i+w, \" \", i+w+h)"
   ]
  },
  {
   "cell_type": "code",
   "execution_count": 5,
   "metadata": {},
   "outputs": [
    {
     "name": "stdout",
     "output_type": "stream",
     "text": [
      "0   10   20\n",
      "10   20   30\n"
     ]
    }
   ],
   "source": [
    "w = 10\n",
    "h = 10\n",
    "length = 40\n",
    "seq_length = w + h\n",
    "\n",
    "for i in range(0,length-seq_length, w):\n",
    "    print(i, \" \", i+w, \" \", i+w+h)"
   ]
  },
  {
   "cell_type": "code",
   "execution_count": 6,
   "metadata": {},
   "outputs": [
    {
     "name": "stdout",
     "output_type": "stream",
     "text": [
      "0   5   15\n",
      "5   10   20\n",
      "10   15   25\n",
      "15   20   30\n",
      "20   25   35\n"
     ]
    }
   ],
   "source": [
    "w = 5\n",
    "h = 10\n",
    "length = 40\n",
    "seq_length = w + h\n",
    "\n",
    "for i in range(0,length-seq_length, w):\n",
    "    print(i, \" \", i+w, \" \", i+w+h)"
   ]
  },
  {
   "cell_type": "code",
   "execution_count": 7,
   "metadata": {},
   "outputs": [
    {
     "name": "stdout",
     "output_type": "stream",
     "text": [
      "10\n",
      "1 2\n",
      "20\n",
      "10\n"
     ]
    }
   ],
   "source": [
    "def pipeline(uno, dos):\n",
    "    print(uno)\n",
    "    print(dos)\n",
    "\n",
    "dic = {\"dos\":10, \"uno\":20}\n",
    "print(dic[\"dos\"])\n",
    "arr = [1,2]\n",
    "print(*arr)\n",
    "pipeline(**dic)"
   ]
  },
  {
   "cell_type": "code",
   "execution_count": 8,
   "metadata": {},
   "outputs": [
    {
     "name": "stdout",
     "output_type": "stream",
     "text": [
      "{'uno': 20, 'dic2': {'hello': 2}}\n"
     ]
    }
   ],
   "source": [
    "class dotdict(dict):\n",
    "    \"\"\"dot.notation access to dictionary attributes\"\"\"\n",
    "    __getattr__ = dict.get\n",
    "    __setattr__ = dict.__setitem__\n",
    "    __delattr__ = dict.__delitem__\n",
    "\n",
    "dic = dotdict(dic)\n",
    "dic.dos\n",
    "dic.dos = 20\n",
    "del(dic.dos)\n",
    "dic\n",
    "\n",
    "dic.dic2 = dotdict({})\n",
    "dic.dic2.hello = 2\n",
    "print(dic)"
   ]
  },
  {
   "cell_type": "markdown",
   "metadata": {},
   "source": [
    "# What does error metric do if target dimensionality is larger than 1?"
   ]
  },
  {
   "cell_type": "code",
   "execution_count": 9,
   "metadata": {},
   "outputs": [
    {
     "name": "stdout",
     "output_type": "stream",
     "text": [
      "8.528200816389788\n",
      "9.382497002397603\n"
     ]
    }
   ],
   "source": [
    "from sklearn.metrics import mean_absolute_error, mean_squared_error\n",
    "y_true = [[0.5, 25],[-1, 10],[2, -6], [9,1]]\n",
    "y_pred = [[0, 2],[-1, 2],[8, -5], [2,6]]\n",
    "length = len(y_true)\n",
    "print(mean_squared_error(y_true, y_pred, squared=False))\n",
    "print(mean_squared_error(y_true, y_pred) **0.5)\n",
    "\n",
    "\n"
   ]
  },
  {
   "cell_type": "code",
   "execution_count": 10,
   "metadata": {},
   "outputs": [
    {
     "name": "stdout",
     "output_type": "stream",
     "text": [
      "[[2.50e-01 5.29e+02]\n",
      " [0.00e+00 6.40e+01]\n",
      " [3.60e+01 1.00e+00]\n",
      " [4.90e+01 2.50e+01]]\n",
      "[ 4.61654633 12.4398553 ]\n",
      "8.528200816389788\n"
     ]
    }
   ],
   "source": [
    "import numpy as np\n",
    "arr = np.array([((true[0] - pred[0])**2, (true[1] - pred[1])**2) for true, pred in zip(y_true, y_pred)])\n",
    "print(arr)\n",
    "arr = (1/ length* np.sum(arr, axis=0))**0.5\n",
    "print(arr)\n",
    "arr = 0.5 * np.sum(arr, axis=-1)\n",
    "print(arr)\n",
    "\n",
    "# ---> Result: sklearn first computes rmse for every dimension and then averages. This is how the mulit dimensional rmse should be calculated"
   ]
  },
  {
   "cell_type": "code",
   "execution_count": 11,
   "metadata": {},
   "outputs": [
    {
     "name": "stdout",
     "output_type": "stream",
     "text": [
      "{'copy': True, 'with_mean': True, 'with_std': True}\n",
      "[[-1.22474487]\n",
      " [ 0.        ]\n",
      " [ 1.22474487]]\n",
      "[[1.         1.18350342 1.        ]\n",
      " [2.         2.         2.        ]\n",
      " [3.         3.         3.        ]]\n"
     ]
    }
   ],
   "source": [
    "from sklearn.preprocessing import MinMaxScaler, StandardScaler\n",
    "import numpy as np\n",
    "\n",
    "scaler = StandardScaler()\n",
    "arr = np.array([[1],[2],[3]])\n",
    "arr_scaled = scaler.fit_transform(arr)\n",
    "print(scaler.get_params())\n",
    "print(arr_scaled)\n",
    "arr_scaled2= np.repeat(arr_scaled, 3, axis=1)\n",
    "arr_scaled2[0,1] = -1\n",
    "arr_rescaled = scaler.inverse_transform(arr_scaled2)\n",
    "print(arr_rescaled)\n"
   ]
  },
  {
   "cell_type": "code",
   "execution_count": 12,
   "metadata": {},
   "outputs": [
    {
     "name": "stdout",
     "output_type": "stream",
     "text": [
      "0\n"
     ]
    }
   ],
   "source": [
    "#import pandas as pd\n",
    "#df = pd.DataFrame({\"A\":[1,2,3], \"B\":[4,5,6]})\n",
    "#print(df[2])\n",
    "\n",
    "for i in range(0,2,2):\n",
    "    print(i)\n"
   ]
  },
  {
   "cell_type": "code",
   "execution_count": 13,
   "metadata": {},
   "outputs": [
    {
     "data": {
      "text/plain": [
       "1.3272000000000002"
      ]
     },
     "execution_count": 13,
     "metadata": {},
     "output_type": "execute_result"
    }
   ],
   "source": [
    "(1.51 * 24 + 1.0 * 18 + 15 * 1.7 + 6 * 1.3 + 9 * 1.0 + 3 * 1.0) / (24+18+30+3)"
   ]
  },
  {
   "cell_type": "code",
   "execution_count": 14,
   "metadata": {},
   "outputs": [
    {
     "data": {
      "text/plain": [
       "tensor([[[0.0412, 0.5561, 0.3932, 0.9025],\n",
       "         [0.0365, 0.4193, 0.0926, 0.7166],\n",
       "         [0.2153, 0.0146, 0.6820, 0.7265],\n",
       "         [0.9382, 0.8759, 0.3992, 0.2185],\n",
       "         [0.7779, 0.8717, 0.2100, 0.0883],\n",
       "         [0.0333, 0.6609, 0.8918, 0.3295]],\n",
       "\n",
       "        [[0.5160, 0.4311, 0.8420, 0.7996],\n",
       "         [0.0198, 0.1928, 0.5428, 0.6769],\n",
       "         [0.6492, 0.9890, 0.0107, 0.3309],\n",
       "         [0.5175, 0.2173, 0.5726, 0.8755],\n",
       "         [0.8080, 0.5379, 0.7746, 0.5921],\n",
       "         [0.8261, 0.3748, 0.3618, 0.1849]]])"
      ]
     },
     "execution_count": 14,
     "metadata": {},
     "output_type": "execute_result"
    }
   ],
   "source": [
    "import torch\n",
    "x = torch.rand((2,6,4))\n",
    "x"
   ]
  },
  {
   "cell_type": "code",
   "execution_count": 15,
   "metadata": {},
   "outputs": [
    {
     "data": {
      "text/plain": [
       "tensor([[[[0.0412, 0.5561],\n",
       "          [0.3932, 0.9025]],\n",
       "\n",
       "         [[0.0365, 0.4193],\n",
       "          [0.0926, 0.7166]],\n",
       "\n",
       "         [[0.2153, 0.0146],\n",
       "          [0.6820, 0.7265]],\n",
       "\n",
       "         [[0.9382, 0.8759],\n",
       "          [0.3992, 0.2185]],\n",
       "\n",
       "         [[0.7779, 0.8717],\n",
       "          [0.2100, 0.0883]],\n",
       "\n",
       "         [[0.0333, 0.6609],\n",
       "          [0.8918, 0.3295]]],\n",
       "\n",
       "\n",
       "        [[[0.5160, 0.4311],\n",
       "          [0.8420, 0.7996]],\n",
       "\n",
       "         [[0.0198, 0.1928],\n",
       "          [0.5428, 0.6769]],\n",
       "\n",
       "         [[0.6492, 0.9890],\n",
       "          [0.0107, 0.3309]],\n",
       "\n",
       "         [[0.5175, 0.2173],\n",
       "          [0.5726, 0.8755]],\n",
       "\n",
       "         [[0.8080, 0.5379],\n",
       "          [0.7746, 0.5921]],\n",
       "\n",
       "         [[0.8261, 0.3748],\n",
       "          [0.3618, 0.1849]]]])"
      ]
     },
     "execution_count": 15,
     "metadata": {},
     "output_type": "execute_result"
    }
   ],
   "source": [
    "x.view(2,6,2,-1)"
   ]
  },
  {
   "cell_type": "code",
   "execution_count": 16,
   "metadata": {},
   "outputs": [
    {
     "data": {
      "text/html": [
       "<div>\n",
       "<style scoped>\n",
       "    .dataframe tbody tr th:only-of-type {\n",
       "        vertical-align: middle;\n",
       "    }\n",
       "\n",
       "    .dataframe tbody tr th {\n",
       "        vertical-align: top;\n",
       "    }\n",
       "\n",
       "    .dataframe thead th {\n",
       "        text-align: right;\n",
       "    }\n",
       "</style>\n",
       "<table border=\"1\" class=\"dataframe\">\n",
       "  <thead>\n",
       "    <tr style=\"text-align: right;\">\n",
       "      <th></th>\n",
       "      <th>date</th>\n",
       "      <th>val1</th>\n",
       "    </tr>\n",
       "  </thead>\n",
       "  <tbody>\n",
       "    <tr>\n",
       "      <th>0</th>\n",
       "      <td>2019-01-23 23:00</td>\n",
       "      <td>1</td>\n",
       "    </tr>\n",
       "    <tr>\n",
       "      <th>1</th>\n",
       "      <td>2019-02-23 23:00</td>\n",
       "      <td>2</td>\n",
       "    </tr>\n",
       "    <tr>\n",
       "      <th>2</th>\n",
       "      <td>2020-03-24 23:00</td>\n",
       "      <td>3</td>\n",
       "    </tr>\n",
       "    <tr>\n",
       "      <th>3</th>\n",
       "      <td>2020-09-23 23:00</td>\n",
       "      <td>4</td>\n",
       "    </tr>\n",
       "    <tr>\n",
       "      <th>4</th>\n",
       "      <td>2020-01-23 23:00</td>\n",
       "      <td>5</td>\n",
       "    </tr>\n",
       "    <tr>\n",
       "      <th>5</th>\n",
       "      <td>2021-01-13 23:00</td>\n",
       "      <td>6</td>\n",
       "    </tr>\n",
       "    <tr>\n",
       "      <th>6</th>\n",
       "      <td>2021-01-23 23:00</td>\n",
       "      <td>7</td>\n",
       "    </tr>\n",
       "    <tr>\n",
       "      <th>7</th>\n",
       "      <td>2021-02-23 23:00</td>\n",
       "      <td>8</td>\n",
       "    </tr>\n",
       "    <tr>\n",
       "      <th>8</th>\n",
       "      <td>2022-01-23 23:00</td>\n",
       "      <td>9</td>\n",
       "    </tr>\n",
       "    <tr>\n",
       "      <th>9</th>\n",
       "      <td>2022-02-23 23:00</td>\n",
       "      <td>10</td>\n",
       "    </tr>\n",
       "    <tr>\n",
       "      <th>10</th>\n",
       "      <td>2023-01-23 23:00</td>\n",
       "      <td>11</td>\n",
       "    </tr>\n",
       "    <tr>\n",
       "      <th>11</th>\n",
       "      <td>2023-02-23 23:00</td>\n",
       "      <td>12</td>\n",
       "    </tr>\n",
       "  </tbody>\n",
       "</table>\n",
       "</div>"
      ],
      "text/plain": [
       "                date  val1\n",
       "0   2019-01-23 23:00     1\n",
       "1   2019-02-23 23:00     2\n",
       "2   2020-03-24 23:00     3\n",
       "3   2020-09-23 23:00     4\n",
       "4   2020-01-23 23:00     5\n",
       "5   2021-01-13 23:00     6\n",
       "6   2021-01-23 23:00     7\n",
       "7   2021-02-23 23:00     8\n",
       "8   2022-01-23 23:00     9\n",
       "9   2022-02-23 23:00    10\n",
       "10  2023-01-23 23:00    11\n",
       "11  2023-02-23 23:00    12"
      ]
     },
     "execution_count": 16,
     "metadata": {},
     "output_type": "execute_result"
    }
   ],
   "source": [
    "df_raw = pd.DataFrame(\n",
    "    {\"date\": [\"2019-01-23 23:00\", \"2019-02-23 23:00\", \"2020-03-24 23:00\", \"2020-09-23 23:00\", \"2020-01-23 23:00\", \"2021-01-13 23:00\", \"2021-01-23 23:00\", \"2021-02-23 23:00\", \"2022-01-23 23:00\", \"2022-02-23 23:00\", \"2023-01-23 23:00\", \"2023-02-23 23:00\"],\n",
    "    \"val1\": [1,2,3,4,5,6,7,8,9,10,11,12]}\n",
    ")\n",
    "df_raw"
   ]
  },
  {
   "cell_type": "code",
   "execution_count": 17,
   "metadata": {},
   "outputs": [
    {
     "data": {
      "text/html": [
       "<div>\n",
       "<style scoped>\n",
       "    .dataframe tbody tr th:only-of-type {\n",
       "        vertical-align: middle;\n",
       "    }\n",
       "\n",
       "    .dataframe tbody tr th {\n",
       "        vertical-align: top;\n",
       "    }\n",
       "\n",
       "    .dataframe thead th {\n",
       "        text-align: right;\n",
       "    }\n",
       "</style>\n",
       "<table border=\"1\" class=\"dataframe\">\n",
       "  <thead>\n",
       "    <tr style=\"text-align: right;\">\n",
       "      <th></th>\n",
       "      <th>date</th>\n",
       "      <th>val1</th>\n",
       "    </tr>\n",
       "  </thead>\n",
       "  <tbody>\n",
       "    <tr>\n",
       "      <th>0</th>\n",
       "      <td>2019-01-23 23:00</td>\n",
       "      <td>1</td>\n",
       "    </tr>\n",
       "    <tr>\n",
       "      <th>1</th>\n",
       "      <td>2019-02-23 23:00</td>\n",
       "      <td>2</td>\n",
       "    </tr>\n",
       "    <tr>\n",
       "      <th>2</th>\n",
       "      <td>2020-03-24 23:00</td>\n",
       "      <td>3</td>\n",
       "    </tr>\n",
       "    <tr>\n",
       "      <th>3</th>\n",
       "      <td>2020-09-23 23:00</td>\n",
       "      <td>4</td>\n",
       "    </tr>\n",
       "    <tr>\n",
       "      <th>4</th>\n",
       "      <td>2020-01-23 23:00</td>\n",
       "      <td>5</td>\n",
       "    </tr>\n",
       "    <tr>\n",
       "      <th>5</th>\n",
       "      <td>2021-01-13 23:00</td>\n",
       "      <td>6</td>\n",
       "    </tr>\n",
       "    <tr>\n",
       "      <th>6</th>\n",
       "      <td>2021-01-23 23:00</td>\n",
       "      <td>7</td>\n",
       "    </tr>\n",
       "    <tr>\n",
       "      <th>7</th>\n",
       "      <td>2021-02-23 23:00</td>\n",
       "      <td>8</td>\n",
       "    </tr>\n",
       "    <tr>\n",
       "      <th>8</th>\n",
       "      <td>2022-01-23 23:00</td>\n",
       "      <td>9</td>\n",
       "    </tr>\n",
       "    <tr>\n",
       "      <th>9</th>\n",
       "      <td>2022-02-23 23:00</td>\n",
       "      <td>10</td>\n",
       "    </tr>\n",
       "    <tr>\n",
       "      <th>10</th>\n",
       "      <td>2023-01-23 23:00</td>\n",
       "      <td>11</td>\n",
       "    </tr>\n",
       "    <tr>\n",
       "      <th>11</th>\n",
       "      <td>2023-02-23 23:00</td>\n",
       "      <td>12</td>\n",
       "    </tr>\n",
       "  </tbody>\n",
       "</table>\n",
       "</div>"
      ],
      "text/plain": [
       "                date  val1\n",
       "0   2019-01-23 23:00     1\n",
       "1   2019-02-23 23:00     2\n",
       "2   2020-03-24 23:00     3\n",
       "3   2020-09-23 23:00     4\n",
       "4   2020-01-23 23:00     5\n",
       "5   2021-01-13 23:00     6\n",
       "6   2021-01-23 23:00     7\n",
       "7   2021-02-23 23:00     8\n",
       "8   2022-01-23 23:00     9\n",
       "9   2022-02-23 23:00    10\n",
       "10  2023-01-23 23:00    11\n",
       "11  2023-02-23 23:00    12"
      ]
     },
     "execution_count": 17,
     "metadata": {},
     "output_type": "execute_result"
    }
   ],
   "source": [
    "df_raw = df_raw.rename(columns={\"asdf\": \"asd\"})\n",
    "df_raw"
   ]
  },
  {
   "cell_type": "code",
   "execution_count": 18,
   "metadata": {},
   "outputs": [
    {
     "name": "stdout",
     "output_type": "stream",
     "text": [
      "5\n",
      "3\n",
      "4\n"
     ]
    }
   ],
   "source": [
    "df_raw[\"date\"] = pd.to_datetime(df_raw[\"date\"])\n",
    "mask_train = df_raw['date'].dt.year < 2021\n",
    "# Index + 1 is the number of training elements\n",
    "num_train = df_raw[mask_train].last_valid_index() + 1 \n",
    "mask_val = df_raw['date'].dt.year == 2021\n",
    "# Substract the indexes for the number of validation elements\n",
    "num_val = df_raw[mask_val].last_valid_index() - (num_train - 1) \n",
    "num_test = len(df_raw) - num_train - num_val\n",
    "\n",
    "print(num_train)\n",
    "print(num_val)\n",
    "print(num_test)\n",
    "\n",
    "assert num_test > 0\n",
    "assert num_train > num_test > num_val\n",
    "\n"
   ]
  },
  {
   "cell_type": "code",
   "execution_count": 19,
   "metadata": {},
   "outputs": [
    {
     "data": {
      "text/html": [
       "<div>\n",
       "<style scoped>\n",
       "    .dataframe tbody tr th:only-of-type {\n",
       "        vertical-align: middle;\n",
       "    }\n",
       "\n",
       "    .dataframe tbody tr th {\n",
       "        vertical-align: top;\n",
       "    }\n",
       "\n",
       "    .dataframe thead th {\n",
       "        text-align: right;\n",
       "    }\n",
       "</style>\n",
       "<table border=\"1\" class=\"dataframe\">\n",
       "  <thead>\n",
       "    <tr style=\"text-align: right;\">\n",
       "      <th></th>\n",
       "      <th>date</th>\n",
       "      <th>val1</th>\n",
       "    </tr>\n",
       "  </thead>\n",
       "  <tbody>\n",
       "    <tr>\n",
       "      <th>0</th>\n",
       "      <td>2019-01-23 23:00:00</td>\n",
       "      <td>1</td>\n",
       "    </tr>\n",
       "    <tr>\n",
       "      <th>1</th>\n",
       "      <td>2019-02-23 23:00:00</td>\n",
       "      <td>2</td>\n",
       "    </tr>\n",
       "    <tr>\n",
       "      <th>2</th>\n",
       "      <td>2020-03-24 23:00:00</td>\n",
       "      <td>3</td>\n",
       "    </tr>\n",
       "    <tr>\n",
       "      <th>3</th>\n",
       "      <td>2020-09-23 23:00:00</td>\n",
       "      <td>4</td>\n",
       "    </tr>\n",
       "    <tr>\n",
       "      <th>4</th>\n",
       "      <td>2020-01-23 23:00:00</td>\n",
       "      <td>5</td>\n",
       "    </tr>\n",
       "    <tr>\n",
       "      <th>5</th>\n",
       "      <td>2021-01-13 23:00:00</td>\n",
       "      <td>6</td>\n",
       "    </tr>\n",
       "    <tr>\n",
       "      <th>6</th>\n",
       "      <td>2021-01-23 23:00:00</td>\n",
       "      <td>7</td>\n",
       "    </tr>\n",
       "    <tr>\n",
       "      <th>7</th>\n",
       "      <td>2021-02-23 23:00:00</td>\n",
       "      <td>8</td>\n",
       "    </tr>\n",
       "    <tr>\n",
       "      <th>8</th>\n",
       "      <td>2022-01-23 23:00:00</td>\n",
       "      <td>9</td>\n",
       "    </tr>\n",
       "    <tr>\n",
       "      <th>9</th>\n",
       "      <td>2022-02-23 23:00:00</td>\n",
       "      <td>10</td>\n",
       "    </tr>\n",
       "    <tr>\n",
       "      <th>10</th>\n",
       "      <td>2023-01-23 23:00:00</td>\n",
       "      <td>11</td>\n",
       "    </tr>\n",
       "    <tr>\n",
       "      <th>11</th>\n",
       "      <td>2023-02-23 23:00:00</td>\n",
       "      <td>12</td>\n",
       "    </tr>\n",
       "  </tbody>\n",
       "</table>\n",
       "</div>"
      ],
      "text/plain": [
       "                  date  val1\n",
       "0  2019-01-23 23:00:00     1\n",
       "1  2019-02-23 23:00:00     2\n",
       "2  2020-03-24 23:00:00     3\n",
       "3  2020-09-23 23:00:00     4\n",
       "4  2020-01-23 23:00:00     5\n",
       "5  2021-01-13 23:00:00     6\n",
       "6  2021-01-23 23:00:00     7\n",
       "7  2021-02-23 23:00:00     8\n",
       "8  2022-01-23 23:00:00     9\n",
       "9  2022-02-23 23:00:00    10\n",
       "10 2023-01-23 23:00:00    11\n",
       "11 2023-02-23 23:00:00    12"
      ]
     },
     "execution_count": 19,
     "metadata": {},
     "output_type": "execute_result"
    }
   ],
   "source": [
    "df_raw"
   ]
  },
  {
   "cell_type": "code",
   "execution_count": 30,
   "metadata": {},
   "outputs": [
    {
     "data": {
      "text/plain": [
       "True"
      ]
     },
     "execution_count": 30,
     "metadata": {},
     "output_type": "execute_result"
    }
   ],
   "source": [
    "np.allclose(df_raw.date.dt.month, df_raw.date.apply(lambda row: row.month))"
   ]
  },
  {
   "cell_type": "code",
   "execution_count": 35,
   "metadata": {},
   "outputs": [
    {
     "name": "stdout",
     "output_type": "stream",
     "text": [
      "torch.Size([4])\n"
     ]
    },
    {
     "data": {
      "text/plain": [
       "torch.Size([4, 1])"
      ]
     },
     "execution_count": 35,
     "metadata": {},
     "output_type": "execute_result"
    }
   ],
   "source": [
    "x = torch.tensor([1, 2, 3, 4])\n",
    "print(x.shape)\n",
    "x.unsqueeze(1).shape"
   ]
  },
  {
   "cell_type": "code",
   "execution_count": 36,
   "metadata": {},
   "outputs": [
    {
     "data": {
      "text/plain": [
       "tensor([ 0.,  2.,  4.,  6.,  8., 10.])"
      ]
     },
     "execution_count": 36,
     "metadata": {},
     "output_type": "execute_result"
    }
   ],
   "source": [
    "torch.arange(0, 12, 2).float()"
   ]
  },
  {
   "cell_type": "code",
   "execution_count": 38,
   "metadata": {},
   "outputs": [
    {
     "data": {
      "text/plain": [
       "array([ 0.00000000e+00, -2.44929360e-16, -8.30894028e-02,  1.68139005e-02,\n",
       "       -6.63218974e-02,  3.36230472e-02])"
      ]
     },
     "execution_count": 38,
     "metadata": {},
     "output_type": "execute_result"
    }
   ],
   "source": [
    "np.sin([0,2*np.pi, 62/10, 63/10, 125/10, 126/10])"
   ]
  },
  {
   "cell_type": "code",
   "execution_count": 46,
   "metadata": {},
   "outputs": [
    {
     "data": {
      "text/plain": [
       "True"
      ]
     },
     "execution_count": 46,
     "metadata": {},
     "output_type": "execute_result"
    }
   ],
   "source": [
    "x = np.sin(np.arange(0,10000000))\n",
    "\n",
    "len(np.unique(x)) == len(x)"
   ]
  },
  {
   "cell_type": "code",
   "execution_count": 4,
   "metadata": {},
   "outputs": [
    {
     "name": "stdout",
     "output_type": "stream",
     "text": [
      "Model              Transformer 1          Transformer 2         \n",
      "Metric                  Metric 1 Metric 2      Metric 1 Metric 2\n",
      "Target   Horizon                                                \n",
      "Target 1 Horizon 1             -        -             -        -\n",
      "         Horizon 2             -        -             -        -\n",
      "Target 2 Horizon 1             -        -             -        -\n",
      "         Horizon 2             -        -             -        -\n",
      "Model              Transformer 1          Transformer 2         \n",
      "Metric                  Metric 1 Metric 2      Metric 1 Metric 2\n",
      "Target   Horizon                                                \n",
      "Target 1 Horizon 1             -        -             -        -\n",
      "         Horizon 2             -        -             -        2\n",
      "Target 2 Horizon 1             -        -             -        -\n",
      "         Horizon 2             -        -             -        -\n",
      "\\begin{tabular}{llllll}\n",
      "\\toprule\n",
      " & Model & \\multicolumn{2}{r}{Transformer 1} & \\multicolumn{2}{r}{Transformer 2} \\\\\n",
      " & Metric & Metric 1 & Metric 2 & Metric 1 & Metric 2 \\\\\n",
      "Target & Horizon &  &  &  &  \\\\\n",
      "\\midrule\n",
      "\\multirow[t]{2}{*}{Target 1} & Horizon 1 & - & - & - & - \\\\\n",
      " & Horizon 2 & - & - & - & 2 \\\\\n",
      "\\cline{1-6}\n",
      "\\multirow[t]{2}{*}{Target 2} & Horizon 1 & - & - & - & - \\\\\n",
      " & Horizon 2 & - & - & - & - \\\\\n",
      "\\cline{1-6}\n",
      "\\bottomrule\n",
      "\\end{tabular}\n",
      "\n"
     ]
    }
   ],
   "source": [
    "import pandas as pd\n",
    "\n",
    "# Define the levels for the MultiIndex of the rows\n",
    "targets = ['Target 1', 'Target 2']  # Customize your targets\n",
    "horizons = ['Horizon 1', 'Horizon 2']  # Customize your horizons\n",
    "\n",
    "# Define the levels for the MultiIndex of the columns\n",
    "transformers = ['Transformer 1', 'Transformer 2']  # Customize your transformers\n",
    "metrics = ['Metric 1', 'Metric 2']  # Customize your metrics\n",
    "\n",
    "# Create the MultiIndex for the rows\n",
    "row_index = pd.MultiIndex.from_product([targets, horizons], names=['Target', 'Horizon'])\n",
    "\n",
    "# Create the MultiIndex for the columns\n",
    "column_index = pd.MultiIndex.from_product([transformers, metrics], names=['Model', 'Metric'])\n",
    "\n",
    "# Initialize the DataFrame with MultiIndex for both rows and columns\n",
    "metrics_df = pd.DataFrame(index=row_index, columns=column_index).fillna('-')  # Fill with placeholder for clarity\n",
    "\n",
    "# Display the DataFrame\n",
    "print(metrics_df)\n",
    "\n",
    "# Access the specific entry\n",
    "metrics_df.loc[('Target 1', 'Horizon 2'), ('Transformer 2', 'Metric 2')] = 2\n",
    "\n",
    "print(metrics_df)\n",
    "\n",
    "\n",
    "# Convert the DataFrame to a LaTeX table\n",
    "latex_table = metrics_df.to_latex()\n",
    "\n",
    "# Print the LaTeX table string\n",
    "print(latex_table)\n",
    "\n"
   ]
  },
  {
   "cell_type": "code",
   "execution_count": 3,
   "metadata": {},
   "outputs": [
    {
     "name": "stdout",
     "output_type": "stream",
     "text": [
      "[('hello', 1), ('hello2', 2)]\n"
     ]
    }
   ],
   "source": [
    "dic = {\n",
    "    \"hello\": 1,\n",
    "    \"hello2\": 2\n",
    "}\n",
    "print([item for item in dic.items()])\n",
    "\n"
   ]
  },
  {
   "cell_type": "code",
   "execution_count": 9,
   "metadata": {},
   "outputs": [
    {
     "data": {
      "text/plain": [
       "DatetimeIndex(['2019-01-23 23:00:00', '2019-02-23 23:00:00'], dtype='datetime64[ns]', freq=None)"
      ]
     },
     "execution_count": 9,
     "metadata": {},
     "output_type": "execute_result"
    }
   ],
   "source": [
    "import pandas as pd\n",
    "df_stamp = pd.DataFrame(\n",
    "    {\"date\": [\"2019-01-23 23:00\", \"2019-02-23 23:00\"]}\n",
    "\n",
    ")\n",
    "\n",
    "\n",
    "\n",
    "\n",
    "df_stamp['date'] = pd.to_datetime(df_stamp.date)\n",
    "pd.to_datetime(df_stamp['date'].values)"
   ]
  },
  {
   "cell_type": "code",
   "execution_count": 10,
   "metadata": {},
   "outputs": [
    {
     "name": "stdout",
     "output_type": "stream",
     "text": [
      "                 date  val1\n",
      "0 2019-01-23 23:00:00     1\n",
      "1 2019-02-23 23:00:00     1\n",
      "                 date\n",
      "0 2019-01-23 23:00:00\n",
      "1 2019-02-23 23:00:00\n"
     ]
    }
   ],
   "source": [
    "df_stamp2 = df_stamp.copy()\n",
    "\n",
    "df_stamp[\"val1\"] = 1\n",
    "\n",
    "print(df_stamp)\n",
    "print(df_stamp2)"
   ]
  },
  {
   "cell_type": "code",
   "execution_count": 6,
   "metadata": {},
   "outputs": [
    {
     "name": "stdout",
     "output_type": "stream",
     "text": [
      "[[ 1  2  3  4  5]\n",
      " [ 6  7  8  9 10]]\n"
     ]
    }
   ],
   "source": [
    "import pandas as pd\n",
    "import numpy as np\n",
    "\n",
    "# Creating a pandas Index\n",
    "index = pd.Index([1, 2, 3, 4, 5])\n",
    "\n",
    "# Creating a numpy array\n",
    "array = np.array([6, 7, 8, 9, 10])\n",
    "\n",
    "# Attempt to stack them directly\n",
    "stacked_array = np.vstack((index, array))\n",
    "\n",
    "print(stacked_array)\n"
   ]
  }
 ],
 "metadata": {
  "kernelspec": {
   "display_name": "thesis",
   "language": "python",
   "name": "python3"
  },
  "language_info": {
   "codemirror_mode": {
    "name": "ipython",
    "version": 3
   },
   "file_extension": ".py",
   "mimetype": "text/x-python",
   "name": "python",
   "nbconvert_exporter": "python",
   "pygments_lexer": "ipython3",
   "version": "3.11.5"
  }
 },
 "nbformat": 4,
 "nbformat_minor": 2
}
