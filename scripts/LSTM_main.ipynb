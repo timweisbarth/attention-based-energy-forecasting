{
 "cells": [
  {
   "cell_type": "code",
   "execution_count": 1,
   "metadata": {},
   "outputs": [],
   "source": [
    "import sys\n",
    "sys.path.append(\"./../utils/\")\n",
    "sys.path.append(\"./../\")\n",
    "from sklearn.preprocessing import StandardScaler\n",
    "from datetime import datetime\n",
    "import torch\n",
    "\n",
    "#Modules of src folder\n",
    "from tools import dotdict\n",
    "import run_non_deepl\n",
    "%matplotlib inline"
   ]
  },
  {
   "cell_type": "code",
   "execution_count": 2,
   "metadata": {},
   "outputs": [],
   "source": [
    "args = dotdict({})\n",
    "args.model_params = dotdict({})\n",
    "args.train_params = dotdict({})\n",
    "\n",
    "# Data loading\n",
    "args.from_raw = False\n",
    "args.file_name = \"pp_ts_60_sindex_DE_3f.csv\"\n",
    "from_raw_folder = \"raw\" if args.from_raw else \"preproc_non_deepl\"\n",
    "args.path = f\"./../data/{from_raw_folder}/{args.file_name}\"\n",
    "\n",
    "# Preprocessing\n",
    "args.scaler_name = \"std\"\n",
    "args.scaler = {\"std\":StandardScaler()}[args.scaler_name]\n",
    "\n",
    "# Model and its hyperparameters\n",
    "args.model_name = \"lstm\"\n",
    "args.model_type = \"deepl\"\n",
    "\n",
    "args.model_params.input_dim = 14\n",
    "args.model_params.hidden_dim = 64\n",
    "args.model_params.layer_dim = 3\n",
    "args.model_params.output_dim = None # dependent on forecast_horizon --> specified in for-loop of pipeline\n",
    "args.model_params.dropout_prob = 0.2\n",
    "\n",
    "args.train_params.batch_size = 64\n",
    "args.train_params.n_epochs = 5\n",
    "args.train_params.learning_rate = 1e-3\n",
    "args.train_params.weight_decay = 1e-6\n",
    "\n",
    "\n",
    "# Prediction\n",
    "args.forecast_setting = \"S\"\n",
    "args.cols_to_lag = ['load', 'solar_gen', 'wind_gen'] # TODO: not used by pipeline for lstm\n",
    "args.targets = [['load'], ['solar_gen'], ['wind_gen']]\n",
    "args.window_size = 24\n",
    "args.stride = 6 # Has to be <= min(window_size, forecast_horizon) and stride * integer = window_size,\n",
    "# and stride * integer2 = forecast_horizon\n",
    "args.lead_time = 0 # TODO: Not working yet\n",
    "args.forecast_horizons = [6]\n",
    "\n",
    "# Plotting\n",
    "args.plot_loss = True\n",
    "args.plot = True\n",
    "args.plot_date = '2018-07-01'\n",
    "args.days = 10\n",
    "\n",
    "# Save model\n",
    "args.save_model = False # TODO: Doesnt work for lstm yet\n",
    "args.save_benchmark = True\n",
    "args.date_time = datetime.now().strftime(\"%m-%d-%H\")"
   ]
  },
  {
   "cell_type": "code",
   "execution_count": 3,
   "metadata": {},
   "outputs": [
    {
     "name": "stdout",
     "output_type": "stream",
     "text": [
      "Cuda available? False\n"
     ]
    }
   ],
   "source": [
    "print(\"Cuda available?\", torch.cuda.is_available())"
   ]
  },
  {
   "cell_type": "code",
   "execution_count": 4,
   "metadata": {},
   "outputs": [
    {
     "name": "stdout",
     "output_type": "stream",
     "text": [
      "------- Starting to train univariate lstm on load for horizons [6] ----------\n",
      "Using cpu device\n",
      "Number of parameters in network = 87430\n",
      "\n"
     ]
    },
    {
     "ename": "TypeError",
     "evalue": "LSTMModel.forward() takes 2 positional arguments but 3 were given",
     "output_type": "error",
     "traceback": [
      "\u001b[0;31m---------------------------------------------------------------------------\u001b[0m",
      "\u001b[0;31mTypeError\u001b[0m                                 Traceback (most recent call last)",
      "Cell \u001b[0;32mIn[4], line 1\u001b[0m\n\u001b[0;32m----> 1\u001b[0m \u001b[43mrun_non_deepl\u001b[49m\u001b[38;5;241;43m.\u001b[39;49m\u001b[43mpipeline\u001b[49m\u001b[43m(\u001b[49m\u001b[43margs\u001b[49m\u001b[43m)\u001b[49m\n",
      "File \u001b[0;32m~/Documents/University/thesis/scripts/./../run_non_deepl.py:38\u001b[0m, in \u001b[0;36mpipeline\u001b[0;34m(args)\u001b[0m\n\u001b[1;32m     36\u001b[0m     args\u001b[38;5;241m.\u001b[39mmodel_params\u001b[38;5;241m.\u001b[39moutput_dim \u001b[38;5;241m=\u001b[39m h\n\u001b[1;32m     37\u001b[0m     opt \u001b[38;5;241m=\u001b[39m o\u001b[38;5;241m.\u001b[39mOptimization(args, train_loader, val_loader)\n\u001b[0;32m---> 38\u001b[0m     \u001b[43mopt\u001b[49m\u001b[38;5;241;43m.\u001b[39;49m\u001b[43mtrain\u001b[49m\u001b[43m(\u001b[49m\u001b[43m)\u001b[49m\n\u001b[1;32m     39\u001b[0m     preds, truths \u001b[38;5;241m=\u001b[39m opt\u001b[38;5;241m.\u001b[39mpredict(val_loader)\n\u001b[1;32m     41\u001b[0m \u001b[38;5;28;01melse\u001b[39;00m:\n\u001b[1;32m     42\u001b[0m     \u001b[38;5;66;03m# Reshape data into supervised problem for sklearn module\u001b[39;00m\n",
      "File \u001b[0;32m~/Documents/University/thesis/scripts/./../utils/optimization.py:107\u001b[0m, in \u001b[0;36mOptimization.train\u001b[0;34m(self)\u001b[0m\n\u001b[1;32m    103\u001b[0m \u001b[38;5;28;01mdef\u001b[39;00m \u001b[38;5;21mtrain\u001b[39m(\u001b[38;5;28mself\u001b[39m):\n\u001b[1;32m    105\u001b[0m     \u001b[38;5;28;01mfor\u001b[39;00m epoch \u001b[38;5;129;01min\u001b[39;00m \u001b[38;5;28mrange\u001b[39m(\u001b[38;5;241m1\u001b[39m, \u001b[38;5;28mself\u001b[39m\u001b[38;5;241m.\u001b[39mepochs\u001b[38;5;241m+\u001b[39m\u001b[38;5;241m1\u001b[39m):\n\u001b[0;32m--> 107\u001b[0m         \u001b[38;5;28;43mself\u001b[39;49m\u001b[38;5;241;43m.\u001b[39;49m\u001b[43mtrain_step\u001b[49m\u001b[43m(\u001b[49m\u001b[43m)\u001b[49m\n\u001b[1;32m    108\u001b[0m         \u001b[38;5;28mself\u001b[39m\u001b[38;5;241m.\u001b[39mevaluate()\n\u001b[1;32m    110\u001b[0m         \u001b[38;5;66;03m# Print results\u001b[39;00m\n",
      "File \u001b[0;32m~/Documents/University/thesis/scripts/./../utils/optimization.py:83\u001b[0m, in \u001b[0;36mOptimization.train_step\u001b[0;34m(self)\u001b[0m\n\u001b[1;32m     81\u001b[0m train_batch_losses \u001b[38;5;241m=\u001b[39m \u001b[38;5;241m0\u001b[39m\n\u001b[1;32m     82\u001b[0m \u001b[38;5;28;01mfor\u001b[39;00m batch_number, (X, y) \u001b[38;5;129;01min\u001b[39;00m \u001b[38;5;28menumerate\u001b[39m(\u001b[38;5;28mself\u001b[39m\u001b[38;5;241m.\u001b[39mtrain_loader):\n\u001b[0;32m---> 83\u001b[0m     yhat \u001b[38;5;241m=\u001b[39m \u001b[38;5;28;43mself\u001b[39;49m\u001b[38;5;241;43m.\u001b[39;49m\u001b[43mmodel\u001b[49m\u001b[43m(\u001b[49m\u001b[43mX\u001b[49m\u001b[43m,\u001b[49m\u001b[43m \u001b[49m\u001b[43my\u001b[49m\u001b[43m)\u001b[49m\n\u001b[1;32m     84\u001b[0m     batch_loss \u001b[38;5;241m=\u001b[39m \u001b[38;5;28mself\u001b[39m\u001b[38;5;241m.\u001b[39mloss_fn(yhat, y)\n\u001b[1;32m     85\u001b[0m     batch_loss\u001b[38;5;241m.\u001b[39mbackward()\n",
      "File \u001b[0;32m/opt/homebrew/Caskroom/miniforge/base/envs/thesis/lib/python3.11/site-packages/torch/nn/modules/module.py:1501\u001b[0m, in \u001b[0;36mModule._call_impl\u001b[0;34m(self, *args, **kwargs)\u001b[0m\n\u001b[1;32m   1496\u001b[0m \u001b[38;5;66;03m# If we don't have any hooks, we want to skip the rest of the logic in\u001b[39;00m\n\u001b[1;32m   1497\u001b[0m \u001b[38;5;66;03m# this function, and just call forward.\u001b[39;00m\n\u001b[1;32m   1498\u001b[0m \u001b[38;5;28;01mif\u001b[39;00m \u001b[38;5;129;01mnot\u001b[39;00m (\u001b[38;5;28mself\u001b[39m\u001b[38;5;241m.\u001b[39m_backward_hooks \u001b[38;5;129;01mor\u001b[39;00m \u001b[38;5;28mself\u001b[39m\u001b[38;5;241m.\u001b[39m_backward_pre_hooks \u001b[38;5;129;01mor\u001b[39;00m \u001b[38;5;28mself\u001b[39m\u001b[38;5;241m.\u001b[39m_forward_hooks \u001b[38;5;129;01mor\u001b[39;00m \u001b[38;5;28mself\u001b[39m\u001b[38;5;241m.\u001b[39m_forward_pre_hooks\n\u001b[1;32m   1499\u001b[0m         \u001b[38;5;129;01mor\u001b[39;00m _global_backward_pre_hooks \u001b[38;5;129;01mor\u001b[39;00m _global_backward_hooks\n\u001b[1;32m   1500\u001b[0m         \u001b[38;5;129;01mor\u001b[39;00m _global_forward_hooks \u001b[38;5;129;01mor\u001b[39;00m _global_forward_pre_hooks):\n\u001b[0;32m-> 1501\u001b[0m     \u001b[38;5;28;01mreturn\u001b[39;00m \u001b[43mforward_call\u001b[49m\u001b[43m(\u001b[49m\u001b[38;5;241;43m*\u001b[39;49m\u001b[43margs\u001b[49m\u001b[43m,\u001b[49m\u001b[43m \u001b[49m\u001b[38;5;241;43m*\u001b[39;49m\u001b[38;5;241;43m*\u001b[39;49m\u001b[43mkwargs\u001b[49m\u001b[43m)\u001b[49m\n\u001b[1;32m   1502\u001b[0m \u001b[38;5;66;03m# Do not call functions when jit is used\u001b[39;00m\n\u001b[1;32m   1503\u001b[0m full_backward_hooks, non_full_backward_hooks \u001b[38;5;241m=\u001b[39m [], []\n",
      "\u001b[0;31mTypeError\u001b[0m: LSTMModel.forward() takes 2 positional arguments but 3 were given"
     ]
    }
   ],
   "source": [
    "run_non_deepl.pipeline(args)"
   ]
  },
  {
   "cell_type": "markdown",
   "metadata": {},
   "source": [
    "## Parameters"
   ]
  }
 ],
 "metadata": {
  "kernelspec": {
   "display_name": "thesis",
   "language": "python",
   "name": "python3"
  },
  "language_info": {
   "codemirror_mode": {
    "name": "ipython",
    "version": 3
   },
   "file_extension": ".py",
   "mimetype": "text/x-python",
   "name": "python",
   "nbconvert_exporter": "python",
   "pygments_lexer": "ipython3",
   "version": "3.11.5"
  }
 },
 "nbformat": 4,
 "nbformat_minor": 2
}
