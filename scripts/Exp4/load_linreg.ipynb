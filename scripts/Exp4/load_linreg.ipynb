{
 "cells": [
  {
   "cell_type": "code",
   "execution_count": 1,
   "metadata": {},
   "outputs": [
    {
     "name": "stdout",
     "output_type": "stream",
     "text": [
      "/Users/timw/Documents/University/thesis_2/scripts\n",
      "/Users/timw/Documents/University/thesis_2\n"
     ]
    }
   ],
   "source": [
    "import sys\n",
    "sys.path.append(\"./../../utils/\")\n",
    "sys.path.append(\"./../../\")\n",
    "from sklearn.preprocessing import StandardScaler\n",
    "from datetime import datetime\n",
    "\n",
    "#Modules of src folder\n",
    "from tools import dotdict\n",
    "import run_non_deepl\n",
    "%matplotlib inline\n",
    "%cd  .. \n",
    "%cd .."
   ]
  },
  {
   "cell_type": "markdown",
   "metadata": {},
   "source": [
    "## Parameters"
   ]
  },
  {
   "cell_type": "code",
   "execution_count": 2,
   "metadata": {},
   "outputs": [],
   "source": [
    "args = dotdict({})\n",
    "args.model_params = dotdict({})\n",
    "args.train_params = dotdict({})\n",
    "\n",
    "args.experiment_name = \"Exp4\"\n",
    "args.fix_seed = 2024\n",
    "args.itr = 1\n",
    "\n",
    "# Data loading\n",
    "args.file_name = \"smard_data_DE.csv\"\n",
    "args.path = f\"./data/preproc/{args.file_name}\"\n",
    "\n",
    "# Preprocessing\n",
    "args.scaler_name = \"std\"\n",
    "args.scaler = {\"std\":StandardScaler()}[args.scaler_name]\n",
    "\n",
    "# Model and its hyperparameters\n",
    "args.model_name = \"ridge\"\n",
    "args.model_params = None\n",
    "args.train_params.run = 0\n",
    "\n",
    "# Prediction\n",
    "args.point_forecast = True\n",
    "args.forecast_setting = \"both\"\n",
    "args.cols_to_lag = [\n",
    "    'load', 'solar_gen', 'wind_gen',\n",
    "]\n",
    "args.targets = [[\n",
    "    'load_DE'\n",
    "]]\n",
    "args.window_size = 336\n",
    "args.stride = 1 # Has to be <= min(window_size, forecast_horizon) and stride * integer = window_size,\n",
    "# and stride * integer2 = forecast_horizon\n",
    "args.lead_time = 0 # TODO: Not working yet\n",
    "args.forecast_horizons = [24, 96, 192, 336, 720]\n",
    "\n",
    "# Plotting\n",
    "args.plot = False\n",
    "args.plot_date = '2021-07-01'\n",
    "args.days = 10\n",
    "\n",
    "# Save model\n",
    "args.save_model = False\n",
    "args.save_benchmark = True\n",
    "args.date_time = datetime.now().strftime(\"%m-%d-%H\")\n",
    "args.final_run_train_on_train_and_val = True"
   ]
  },
  {
   "cell_type": "code",
   "execution_count": 3,
   "metadata": {},
   "outputs": [
    {
     "name": "stdout",
     "output_type": "stream",
     "text": [
      "------- Starting to train linreg on ['load_DE', 'solar_gen_DE', 'wind_gen_DE', 'load_DE_50Hertz', 'load_DE_Amprion', 'load_DE_TenneT', 'load_DE_TransnetBW', 'solar_gen_DE_50Hertz', 'solar_gen_DE_Amprion', 'solar_gen_DE_TenneT', 'solar_gen_DE_TransnetBW', 'wind_gen_DE_50Hertz', 'wind_gen_DE_Amprion', 'wind_gen_DE_TenneT', 'wind_gen_DE_TransnetBW'] for horizons [24, 96, 192, 336, 720] ----------\n",
      "-----------------\n",
      "X_train (52489, 2601)\n",
      "y_train (52489, 360)\n",
      "-----------------\n",
      "X_train (52417, 6057)\n",
      "y_train (52417, 1440)\n",
      "-----------------\n",
      "X_train (52321, 6057)\n",
      "y_train (52321, 1440)\n",
      "-----------------\n",
      "X_train (52178, 5481)\n",
      "y_train (52178, 1260)\n",
      "-----------------\n",
      "X_train (51796, 5769)\n",
      "y_train (51796, 1350)\n",
      "                      mae       mse\n",
      "target  horizon                    \n",
      "load_DE 24       0.292048  0.185194\n",
      "        96       0.369515  0.290830\n",
      "        192      0.403860  0.341771\n",
      "        336      0.450727  0.410135\n",
      "        720      0.543785  0.570833\n"
     ]
    }
   ],
   "source": [
    "run_non_deepl.pipeline(args)"
   ]
  },
  {
   "cell_type": "code",
   "execution_count": 4,
   "metadata": {},
   "outputs": [
    {
     "ename": "IndentationError",
     "evalue": "unexpected indent (2419575839.py, line 2)",
     "output_type": "error",
     "traceback": [
      "\u001b[0;36m  Cell \u001b[0;32mIn[4], line 2\u001b[0;36m\u001b[0m\n\u001b[0;31m    mae       mse\u001b[0m\n\u001b[0m    ^\u001b[0m\n\u001b[0;31mIndentationError\u001b[0m\u001b[0;31m:\u001b[0m unexpected indent\n"
     ]
    }
   ],
   "source": [
    "# alpha=0\n",
    "                      mae       mse\n",
    "target  horizon                    \n",
    "load_DE 24       0.368482  0.946173\n",
    "        96       0.514258  3.339041\n",
    "        192      0.547659  3.256252\n",
    "        336      0.605079  3.507097\n",
    "        720      0.760110  6.110489\n",
    "\n",
    "# alpha=1:"
   ]
  },
  {
   "cell_type": "code",
   "execution_count": null,
   "metadata": {},
   "outputs": [],
   "source": []
  }
 ],
 "metadata": {
  "kernelspec": {
   "display_name": "thesis",
   "language": "python",
   "name": "python3"
  },
  "language_info": {
   "codemirror_mode": {
    "name": "ipython",
    "version": 3
   },
   "file_extension": ".py",
   "mimetype": "text/x-python",
   "name": "python",
   "nbconvert_exporter": "python",
   "pygments_lexer": "ipython3",
   "version": "3.11.5"
  }
 },
 "nbformat": 4,
 "nbformat_minor": 2
}
