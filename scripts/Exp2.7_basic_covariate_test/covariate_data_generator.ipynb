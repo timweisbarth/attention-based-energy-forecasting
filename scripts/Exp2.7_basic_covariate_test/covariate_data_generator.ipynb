{
 "cells": [
  {
   "cell_type": "markdown",
   "metadata": {},
   "source": [
    "## Covariate data for PatchTST\n",
    "\n",
    "This generates the data which can test whether PatchTST can detect covariate results. (21/04/2024)"
   ]
  },
  {
   "cell_type": "code",
   "execution_count": 1,
   "metadata": {},
   "outputs": [
    {
     "name": "stdout",
     "output_type": "stream",
     "text": [
      "(78889,)\n"
     ]
    }
   ],
   "source": [
    "import numpy as np\n",
    "import pandas as pd\n",
    "\n",
    "date_range = pd.date_range('2015-01-01', '2023-12-31', freq='H')\n",
    "s1 = np.random.randn(len(date_range) + 24)\n",
    "s2 = np.random.randn(len(date_range) +24)\n",
    "s3 = s1 + s2\n",
    "print(s3.shape)"
   ]
  },
  {
   "cell_type": "code",
   "execution_count": 2,
   "metadata": {},
   "outputs": [
    {
     "data": {
      "text/html": [
       "<div>\n",
       "<style scoped>\n",
       "    .dataframe tbody tr th:only-of-type {\n",
       "        vertical-align: middle;\n",
       "    }\n",
       "\n",
       "    .dataframe tbody tr th {\n",
       "        vertical-align: top;\n",
       "    }\n",
       "\n",
       "    .dataframe thead th {\n",
       "        text-align: right;\n",
       "    }\n",
       "</style>\n",
       "<table border=\"1\" class=\"dataframe\">\n",
       "  <thead>\n",
       "    <tr style=\"text-align: right;\">\n",
       "      <th></th>\n",
       "      <th>date</th>\n",
       "      <th>s1</th>\n",
       "      <th>s2</th>\n",
       "      <th>load</th>\n",
       "    </tr>\n",
       "  </thead>\n",
       "  <tbody>\n",
       "    <tr>\n",
       "      <th>0</th>\n",
       "      <td>2015-01-01 00:00:00</td>\n",
       "      <td>-0.999159</td>\n",
       "      <td>0.524163</td>\n",
       "      <td>1.027777</td>\n",
       "    </tr>\n",
       "    <tr>\n",
       "      <th>1</th>\n",
       "      <td>2015-01-01 01:00:00</td>\n",
       "      <td>0.176091</td>\n",
       "      <td>-0.793624</td>\n",
       "      <td>2.589206</td>\n",
       "    </tr>\n",
       "    <tr>\n",
       "      <th>2</th>\n",
       "      <td>2015-01-01 02:00:00</td>\n",
       "      <td>-2.022179</td>\n",
       "      <td>0.556477</td>\n",
       "      <td>-2.202423</td>\n",
       "    </tr>\n",
       "    <tr>\n",
       "      <th>3</th>\n",
       "      <td>2015-01-01 03:00:00</td>\n",
       "      <td>-0.032828</td>\n",
       "      <td>0.039019</td>\n",
       "      <td>0.062489</td>\n",
       "    </tr>\n",
       "    <tr>\n",
       "      <th>4</th>\n",
       "      <td>2015-01-01 04:00:00</td>\n",
       "      <td>1.002487</td>\n",
       "      <td>1.173951</td>\n",
       "      <td>-1.592504</td>\n",
       "    </tr>\n",
       "    <tr>\n",
       "      <th>...</th>\n",
       "      <td>...</td>\n",
       "      <td>...</td>\n",
       "      <td>...</td>\n",
       "      <td>...</td>\n",
       "    </tr>\n",
       "    <tr>\n",
       "      <th>78860</th>\n",
       "      <td>2023-12-30 20:00:00</td>\n",
       "      <td>1.158623</td>\n",
       "      <td>-0.318156</td>\n",
       "      <td>-0.167622</td>\n",
       "    </tr>\n",
       "    <tr>\n",
       "      <th>78861</th>\n",
       "      <td>2023-12-30 21:00:00</td>\n",
       "      <td>-0.011809</td>\n",
       "      <td>-1.002304</td>\n",
       "      <td>1.631971</td>\n",
       "    </tr>\n",
       "    <tr>\n",
       "      <th>78862</th>\n",
       "      <td>2023-12-30 22:00:00</td>\n",
       "      <td>-1.462888</td>\n",
       "      <td>-0.843786</td>\n",
       "      <td>0.598916</td>\n",
       "    </tr>\n",
       "    <tr>\n",
       "      <th>78863</th>\n",
       "      <td>2023-12-30 23:00:00</td>\n",
       "      <td>-0.476886</td>\n",
       "      <td>0.375105</td>\n",
       "      <td>0.678988</td>\n",
       "    </tr>\n",
       "    <tr>\n",
       "      <th>78864</th>\n",
       "      <td>2023-12-31 00:00:00</td>\n",
       "      <td>-0.762978</td>\n",
       "      <td>-0.558467</td>\n",
       "      <td>-2.090410</td>\n",
       "    </tr>\n",
       "  </tbody>\n",
       "</table>\n",
       "<p>78865 rows × 4 columns</p>\n",
       "</div>"
      ],
      "text/plain": [
       "                     date        s1        s2      load\n",
       "0     2015-01-01 00:00:00 -0.999159  0.524163  1.027777\n",
       "1     2015-01-01 01:00:00  0.176091 -0.793624  2.589206\n",
       "2     2015-01-01 02:00:00 -2.022179  0.556477 -2.202423\n",
       "3     2015-01-01 03:00:00 -0.032828  0.039019  0.062489\n",
       "4     2015-01-01 04:00:00  1.002487  1.173951 -1.592504\n",
       "...                   ...       ...       ...       ...\n",
       "78860 2023-12-30 20:00:00  1.158623 -0.318156 -0.167622\n",
       "78861 2023-12-30 21:00:00 -0.011809 -1.002304  1.631971\n",
       "78862 2023-12-30 22:00:00 -1.462888 -0.843786  0.598916\n",
       "78863 2023-12-30 23:00:00 -0.476886  0.375105  0.678988\n",
       "78864 2023-12-31 00:00:00 -0.762978 -0.558467 -2.090410\n",
       "\n",
       "[78865 rows x 4 columns]"
      ]
     },
     "execution_count": 2,
     "metadata": {},
     "output_type": "execute_result"
    }
   ],
   "source": [
    "\n",
    "df = pd.DataFrame({'date': date_range, 's1': s1[24:], 's2': s2[24:], 'load': s3[:-24]})\n",
    "df"
   ]
  },
  {
   "cell_type": "code",
   "execution_count": 3,
   "metadata": {},
   "outputs": [],
   "source": [
    "df.to_csv('./../../data/preproc/covariatess.csv', index=False)"
   ]
  }
 ],
 "metadata": {
  "kernelspec": {
   "display_name": "thesis",
   "language": "python",
   "name": "python3"
  },
  "language_info": {
   "codemirror_mode": {
    "name": "ipython",
    "version": 3
   },
   "file_extension": ".py",
   "mimetype": "text/x-python",
   "name": "python",
   "nbconvert_exporter": "python",
   "pygments_lexer": "ipython3",
   "version": "3.11.5"
  }
 },
 "nbformat": 4,
 "nbformat_minor": 2
}
