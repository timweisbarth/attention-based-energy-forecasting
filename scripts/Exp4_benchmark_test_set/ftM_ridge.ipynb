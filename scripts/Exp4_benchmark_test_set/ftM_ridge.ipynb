{
 "cells": [
  {
   "cell_type": "code",
   "execution_count": 1,
   "metadata": {},
   "outputs": [
    {
     "name": "stdout",
     "output_type": "stream",
     "text": [
      "/Users/timw/Documents/University/thesis_2/scripts\n",
      "/Users/timw/Documents/University/thesis_2\n"
     ]
    }
   ],
   "source": [
    "import sys\n",
    "sys.path.append(\"./../../utils/\")\n",
    "sys.path.append(\"./../../\")\n",
    "from sklearn.preprocessing import StandardScaler\n",
    "from datetime import datetime\n",
    "\n",
    "#Modules of src folder\n",
    "from tools import dotdict\n",
    "import run_non_deepl\n",
    "%matplotlib inline\n",
    "%cd  .. \n",
    "%cd .."
   ]
  },
  {
   "cell_type": "markdown",
   "metadata": {},
   "source": [
    "## Parameters"
   ]
  },
  {
   "cell_type": "code",
   "execution_count": 2,
   "metadata": {},
   "outputs": [],
   "source": [
    "args = dotdict({})\n",
    "args.model_params = dotdict({})\n",
    "args.train_params = dotdict({})\n",
    "\n",
    "args.experiment_name = \"Exp4\"\n",
    "args.fix_seed = 2024\n",
    "args.itr = 1\n",
    "\n",
    "# Data loading\n",
    "args.file_name = \"smard_plus_weather_without_LUandAT.csv\"\n",
    "args.path = f\"./data/preproc/{args.file_name}\"\n",
    "\n",
    "# Preprocessing\n",
    "args.scaler_name = \"std\"\n",
    "args.scaler = {\"std\":StandardScaler()}[args.scaler_name]\n",
    "\n",
    "# Model and its hyperparameters\n",
    "args.model_name = \"ridge\"\n",
    "args.model_params = None\n",
    "args.train_params.run = 0\n",
    "\n",
    "# Prediction\n",
    "args.point_forecast = True\n",
    "args.forecast_setting = \"both\"\n",
    "args.cols_to_lag = [\n",
    "    'load_DE', 'solar_gen_DE', 'wind_gen_DE',\n",
    "    'lat54.125_lon7.375_u100', 'lat54.125_lon7.375_v100', 'lat54.125_lon7.375_t2m', 'lat54.125_lon7.375_ssrd',\n",
    "    'lat54.125_lon10.375_u100', 'lat54.125_lon10.375_v100', 'lat54.125_lon10.375_t2m', 'lat54.125_lon10.375_ssrd',\n",
    "    'lat54.125_lon13.375_u100', 'lat54.125_lon13.375_v100', 'lat54.125_lon13.375_t2m', 'lat54.125_lon13.375_ssrd',\n",
    "    'lat52.125_lon7.375_u100', 'lat52.125_lon7.375_v100', 'lat52.125_lon7.375_t2m', 'lat52.125_lon7.375_ssrd',\n",
    "    'lat52.125_lon10.375_u100', 'lat52.125_lon10.375_v100', 'lat52.125_lon10.375_t2m', 'lat52.125_lon10.375_ssrd',\n",
    "    'lat52.125_lon13.375_u100', 'lat52.125_lon13.375_v100', 'lat52.125_lon13.375_t2m', 'lat52.125_lon13.375_ssrd',\n",
    "    'lat50.125_lon7.375_u100', 'lat50.125_lon7.375_v100', 'lat50.125_lon7.375_t2m', 'lat50.125_lon7.375_ssrd',\n",
    "    'lat50.125_lon10.375_u100', 'lat50.125_lon10.375_v100', 'lat50.125_lon10.375_t2m', 'lat50.125_lon10.375_ssrd',\n",
    "    'lat50.125_lon13.375_u100', 'lat50.125_lon13.375_v100', 'lat50.125_lon13.375_t2m', 'lat50.125_lon13.375_ssrd',\n",
    "    'lat48.125_lon7.375_u100', 'lat48.125_lon7.375_v100', 'lat48.125_lon7.375_t2m', 'lat48.125_lon7.375_ssrd', \n",
    "    'lat48.125_lon10.375_u100', 'lat48.125_lon10.375_v100', 'lat48.125_lon10.375_t2m', 'lat48.125_lon10.375_ssrd',\n",
    "    'lat48.125_lon13.375_u100', 'lat48.125_lon13.375_v100', 'lat48.125_lon13.375_t2m', 'lat48.125_lon13.375_ssrd',\n",
    "    'load_DE_50Hertz', 'load_DE_Amprion', 'load_DE_TenneT', 'load_DE_TransnetBW', \n",
    "    'solar_gen_DE_50Hertz',  'solar_gen_DE_Amprion', 'solar_gen_DE_TenneT', 'solar_gen_DE_TransnetBW',\n",
    "    'wind_gen_DE_50Hertz', 'wind_gen_DE_Amprion', 'wind_gen_DE_TenneT', 'wind_gen_DE_TransnetBW'\n",
    "]\n",
    "args.targets = [[\n",
    "    'load_DE', 'solar_gen_DE', 'wind_gen_DE',\n",
    "    'load_DE_50Hertz', 'load_DE_Amprion', 'load_DE_TenneT', 'load_DE_TransnetBW',\n",
    "    'solar_gen_DE_50Hertz', 'solar_gen_DE_Amprion', 'solar_gen_DE_TenneT',  'solar_gen_DE_TransnetBW', \n",
    "    'wind_gen_DE_50Hertz', 'wind_gen_DE_Amprion',  'wind_gen_DE_TenneT', 'wind_gen_DE_TransnetBW'\n",
    "]]\n",
    "args.window_size = 96\n",
    "args.stride = 1 # Has to be <= min(window_size, forecast_horizon) and stride * integer = window_size,\n",
    "# and stride * integer2 = forecast_horizon\n",
    "args.lead_time = 0 # TODO: Not working yet\n",
    "args.forecast_horizons = [24, 96, 192, 336, 720]\n",
    "args.final_run_train_on_train_and_val = True\n",
    "\n",
    "# Plotting\n",
    "args.plot = False\n",
    "args.plot_date = '2021-07-01'\n",
    "args.days = 10\n",
    "\n",
    "# Save model\n",
    "args.save_model = False\n",
    "args.save_benchmark = True\n",
    "args.date_time = datetime.now().strftime(\"%m-%d-%H\")"
   ]
  },
  {
   "cell_type": "code",
   "execution_count": 3,
   "metadata": {},
   "outputs": [
    {
     "name": "stdout",
     "output_type": "stream",
     "text": [
      "------- Starting to train ridge on ['load_DE', 'solar_gen_DE', 'wind_gen_DE', 'load_DE_50Hertz', 'load_DE_Amprion', 'load_DE_TenneT', 'load_DE_TransnetBW', 'solar_gen_DE_50Hertz', 'solar_gen_DE_Amprion', 'solar_gen_DE_TenneT', 'solar_gen_DE_TransnetBW', 'wind_gen_DE_50Hertz', 'wind_gen_DE_Amprion', 'wind_gen_DE_TenneT', 'wind_gen_DE_TransnetBW'] for horizons [24, 96, 192, 336, 720] ----------\n",
      "-----------------\n",
      "X_train (70009, 2601)\n",
      "y_train (70009, 360)\n",
      "Training Ridge\n",
      "-----------------\n",
      "X_train (69937, 6057)\n",
      "y_train (69937, 1440)\n",
      "Training Ridge\n",
      "-----------------\n",
      "X_train (69841, 6057)\n",
      "y_train (69841, 1440)\n",
      "Training Ridge\n",
      "-----------------\n",
      "X_train (69698, 5481)\n",
      "y_train (69698, 1260)\n",
      "Training Ridge\n",
      "-----------------\n",
      "X_train (69316, 5769)\n",
      "y_train (69316, 1350)\n",
      "Training Ridge\n",
      "                      mae       mse\n",
      "target  horizon                    \n",
      "load_DE 24       0.297269  0.192615\n",
      "        96       0.361564  0.278461\n",
      "        192      0.381359  0.309990\n",
      "        336      0.410638  0.354202\n",
      "        720      0.476112  0.445003\n"
     ]
    }
   ],
   "source": [
    "run_non_deepl.pipeline(args)"
   ]
  },
  {
   "cell_type": "code",
   "execution_count": 4,
   "metadata": {},
   "outputs": [
    {
     "ename": "SyntaxError",
     "evalue": "invalid syntax (2663415.py, line 5)",
     "output_type": "error",
     "traceback": [
      "\u001b[0;36m  Cell \u001b[0;32mIn[4], line 5\u001b[0;36m\u001b[0m\n\u001b[0;31m    mae       mse\u001b[0m\n\u001b[0m              ^\u001b[0m\n\u001b[0;31mSyntaxError\u001b[0m\u001b[0;31m:\u001b[0m invalid syntax\n"
     ]
    }
   ],
   "source": [
    "alpha=10\n",
    "\n",
    "                      mae       mse\n",
    "target  horizon                    \n",
    "load_DE 24       0.297269  0.192615\n",
    "        96       0.361564  0.278461\n",
    "        192      0.381359  0.309990\n",
    "        336      0.410638  0.354202\n",
    "        720      0.476112  0.445003\n",
    "\n",
    "\n",
    "alpha=1\n",
    "mae       mse\n",
    "target  horizon                    \n",
    "load_DE 24       0.297531  0.192839\n",
    "        96       0.361857  0.278779\n",
    "        192      0.381708  0.310435\n",
    "        336      0.411350  0.355281\n",
    "        720      0.477765  0.447567\n",
    "\n",
    "alpha=0.1\n",
    "\n",
    "                      mae       mse\n",
    "target  horizon                    \n",
    "load_DE 24       0.297701  0.192949\n",
    "        96       0.362098  0.278959\n",
    "        192      0.381877  0.310544\n",
    "        336      0.411571  0.355549\n",
    "        720      0.478098  0.448056\n",
    "\n",
    "Am Ende nochmal mit bestem Wert laufen lassen!"
   ]
  },
  {
   "cell_type": "code",
   "execution_count": null,
   "metadata": {},
   "outputs": [],
   "source": []
  }
 ],
 "metadata": {
  "kernelspec": {
   "display_name": "thesis",
   "language": "python",
   "name": "python3"
  },
  "language_info": {
   "codemirror_mode": {
    "name": "ipython",
    "version": 3
   },
   "file_extension": ".py",
   "mimetype": "text/x-python",
   "name": "python",
   "nbconvert_exporter": "python",
   "pygments_lexer": "ipython3",
   "version": "3.11.5"
  }
 },
 "nbformat": 4,
 "nbformat_minor": 2
}
