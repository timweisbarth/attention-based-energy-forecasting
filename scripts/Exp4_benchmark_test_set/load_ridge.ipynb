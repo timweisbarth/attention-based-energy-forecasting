{
 "cells": [
  {
   "cell_type": "code",
   "execution_count": 1,
   "metadata": {},
   "outputs": [
    {
     "name": "stdout",
     "output_type": "stream",
     "text": [
      "/Users/timw/Documents/University/thesis_2/scripts\n",
      "/Users/timw/Documents/University/thesis_2\n"
     ]
    }
   ],
   "source": [
    "import sys\n",
    "sys.path.append(\"./../../utils/\")\n",
    "sys.path.append(\"./../../\")\n",
    "from sklearn.preprocessing import StandardScaler\n",
    "from datetime import datetime\n",
    "\n",
    "#Modules of src folder\n",
    "from tools import dotdict\n",
    "import run_non_deepl\n",
    "%matplotlib inline\n",
    "%cd  .. \n",
    "%cd .."
   ]
  },
  {
   "cell_type": "markdown",
   "metadata": {},
   "source": [
    "## Parameters"
   ]
  },
  {
   "cell_type": "code",
   "execution_count": 2,
   "metadata": {},
   "outputs": [],
   "source": [
    "args = dotdict({})\n",
    "args.model_params = dotdict({})\n",
    "args.train_params = dotdict({})\n",
    "\n",
    "args.experiment_name = \"Exp4\"\n",
    "args.fix_seed = 2024\n",
    "args.itr = 1\n",
    "\n",
    "# Data loading\n",
    "args.file_name = \"smard_data_DE.csv\"\n",
    "args.path = f\"./data/preproc/{args.file_name}\"\n",
    "\n",
    "# Preprocessing\n",
    "args.scaler_name = \"std\"\n",
    "args.scaler = {\"std\":StandardScaler()}[args.scaler_name]\n",
    "\n",
    "# Model and its hyperparameters\n",
    "args.model_name = \"ridge\"\n",
    "args.model_params = None\n",
    "args.train_params.run = 0\n",
    "\n",
    "# Prediction\n",
    "args.point_forecast = True\n",
    "args.forecast_setting = \"both\"\n",
    "args.cols_to_lag = [\n",
    "    'load', 'solar_gen', 'wind_gen',\n",
    "]\n",
    "args.targets = [[\n",
    "    'load'\n",
    "]]\n",
    "args.window_size = 336\n",
    "args.stride = 1 # Has to be <= min(window_size, forecast_horizon) and stride * integer = window_size,\n",
    "# and stride * integer2 = forecast_horizon\n",
    "args.lead_time = 0 # TODO: Not working yet\n",
    "args.forecast_horizons = [24, 96, 192, 336, 720]\n",
    "\n",
    "# Plotting\n",
    "args.plot = False\n",
    "args.plot_date = '2021-07-01'\n",
    "args.days = 10\n",
    "\n",
    "# Save model\n",
    "args.save_model = False\n",
    "args.save_benchmark = True\n",
    "args.date_time = datetime.now().strftime(\"%m-%d-%H\")\n",
    "args.final_run_train_on_train_and_val = True"
   ]
  },
  {
   "cell_type": "code",
   "execution_count": 3,
   "metadata": {},
   "outputs": [
    {
     "name": "stdout",
     "output_type": "stream",
     "text": [
      "------- Starting to train ridge on ['load'] for horizons [24, 96, 192, 336, 720] ----------\n",
      "-----------------\n",
      "X_train (69769, 347)\n",
      "y_train (69769, 24)\n",
      "Training Ridge\n",
      "-----------------\n",
      "X_train (69697, 347)\n",
      "y_train (69697, 96)\n",
      "Training Ridge\n",
      "-----------------\n",
      "X_train (69602, 347)\n",
      "y_train (69602, 96)\n",
      "Training Ridge\n",
      "-----------------\n",
      "X_train (69460, 347)\n",
      "y_train (69460, 84)\n",
      "Training Ridge\n",
      "-----------------\n",
      "X_train (69080, 347)\n",
      "y_train (69080, 90)\n",
      "Training Ridge\n",
      "                     mae       mse\n",
      "target horizon                    \n",
      "load   24       0.145282  0.048697\n",
      "       96       0.191944  0.085349\n",
      "       192      0.213040  0.101697\n",
      "       336      0.242695  0.118753\n",
      "       720      0.290245  0.149411\n"
     ]
    }
   ],
   "source": [
    "run_non_deepl.pipeline(args)"
   ]
  },
  {
   "cell_type": "code",
   "execution_count": 4,
   "metadata": {},
   "outputs": [
    {
     "ename": "IndentationError",
     "evalue": "unexpected indent (2419575839.py, line 2)",
     "output_type": "error",
     "traceback": [
      "\u001b[0;36m  Cell \u001b[0;32mIn[4], line 2\u001b[0;36m\u001b[0m\n\u001b[0;31m    mae       mse\u001b[0m\n\u001b[0m    ^\u001b[0m\n\u001b[0;31mIndentationError\u001b[0m\u001b[0;31m:\u001b[0m unexpected indent\n"
     ]
    }
   ],
   "source": [
    "# alpha=0\n",
    "                      mae       mse\n",
    "target  horizon                    \n",
    "load_DE 24       0.368482  0.946173\n",
    "        96       0.514258  3.339041\n",
    "        192      0.547659  3.256252\n",
    "        336      0.605079  3.507097\n",
    "        720      0.760110  6.110489\n",
    "\n",
    "# alpha=1:"
   ]
  },
  {
   "cell_type": "code",
   "execution_count": null,
   "metadata": {},
   "outputs": [],
   "source": []
  }
 ],
 "metadata": {
  "kernelspec": {
   "display_name": "thesis",
   "language": "python",
   "name": "python3"
  },
  "language_info": {
   "codemirror_mode": {
    "name": "ipython",
    "version": 3
   },
   "file_extension": ".py",
   "mimetype": "text/x-python",
   "name": "python",
   "nbconvert_exporter": "python",
   "pygments_lexer": "ipython3",
   "version": "3.11.5"
  }
 },
 "nbformat": 4,
 "nbformat_minor": 2
}
