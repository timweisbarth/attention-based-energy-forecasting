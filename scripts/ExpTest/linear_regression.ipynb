{
 "cells": [
  {
   "cell_type": "code",
   "execution_count": 1,
   "metadata": {},
   "outputs": [
    {
     "name": "stdout",
     "output_type": "stream",
     "text": [
      "/Users/timw/Documents/University/thesis_2/scripts\n",
      "/Users/timw/Documents/University/thesis_2\n"
     ]
    }
   ],
   "source": [
    "import sys\n",
    "sys.path.append(\"./../../utils/\")\n",
    "sys.path.append(\"./../../\")\n",
    "from sklearn.preprocessing import StandardScaler\n",
    "from datetime import datetime\n",
    "\n",
    "#Modules of src folder\n",
    "from tools import dotdict\n",
    "import run_non_deepl\n",
    "%matplotlib inline\n",
    "%cd  .. \n",
    "%cd .."
   ]
  },
  {
   "cell_type": "markdown",
   "metadata": {},
   "source": [
    "## Parameters"
   ]
  },
  {
   "cell_type": "code",
   "execution_count": 2,
   "metadata": {},
   "outputs": [],
   "source": [
    "args = dotdict({})\n",
    "args.model_params = dotdict({})\n",
    "args.train_params = dotdict({})\n",
    "\n",
    "args.experiment_name = \"ExpTest\"\n",
    "args.fix_seed = 2024\n",
    "args.itr = 1\n",
    "\n",
    "# Data loading\n",
    "args.file_name = \"smard_plus_weather_without_LUandAT.csv\"\n",
    "args.path = f\"./data/preproc/{args.file_name}\"\n",
    "\n",
    "# Preprocessing\n",
    "args.scaler_name = \"std\"\n",
    "args.scaler = {\"std\":StandardScaler()}[args.scaler_name]\n",
    "\n",
    "# Model and its hyperparameters\n",
    "args.model_name = \"linreg\"\n",
    "args.model_params = None\n",
    "args.train_params.run = 0\n",
    "\n",
    "# Prediction\n",
    "args.point_forecast = True\n",
    "args.forecast_setting = \"both\"\n",
    "args.cols_to_lag = [\n",
    "    'load_DE', 'solar_gen_DE', 'wind_gen_DE',]\n",
    "    #'lat54.125_lon7.375_u100', 'lat54.125_lon7.375_v100', 'lat54.125_lon7.375_t2m', 'lat54.125_lon7.375_ssrd',\n",
    "    #'lat54.125_lon10.375_u100', 'lat54.125_lon10.375_v100', 'lat54.125_lon10.375_t2m', 'lat54.125_lon10.375_ssrd',\n",
    "    #'lat54.125_lon13.375_u100', 'lat54.125_lon13.375_v100', 'lat54.125_lon13.375_t2m', 'lat54.125_lon13.375_ssrd',\n",
    "    #'lat52.125_lon7.375_u100', 'lat52.125_lon7.375_v100', 'lat52.125_lon7.375_t2m', 'lat52.125_lon7.375_ssrd',\n",
    "    #'lat52.125_lon10.375_u100', 'lat52.125_lon10.375_v100', 'lat52.125_lon10.375_t2m', 'lat52.125_lon10.375_ssrd',\n",
    "    #'lat52.125_lon13.375_u100', 'lat52.125_lon13.375_v100', 'lat52.125_lon13.375_t2m', 'lat52.125_lon13.375_ssrd',\n",
    "    #'lat50.125_lon7.375_u100', 'lat50.125_lon7.375_v100', 'lat50.125_lon7.375_t2m', 'lat50.125_lon7.375_ssrd',\n",
    "    #'lat50.125_lon10.375_u100', 'lat50.125_lon10.375_v100', 'lat50.125_lon10.375_t2m', 'lat50.125_lon10.375_ssrd',\n",
    "    #'lat50.125_lon13.375_u100', 'lat50.125_lon13.375_v100', 'lat50.125_lon13.375_t2m', 'lat50.125_lon13.375_ssrd',\n",
    "    #'lat48.125_lon7.375_u100', 'lat48.125_lon7.375_v100', 'lat48.125_lon7.375_t2m', 'lat48.125_lon7.375_ssrd', \n",
    "    #'lat48.125_lon10.375_u100', 'lat48.125_lon10.375_v100', 'lat48.125_lon10.375_t2m', 'lat48.125_lon10.375_ssrd',\n",
    "    #'lat48.125_lon13.375_u100', 'lat48.125_lon13.375_v100', 'lat48.125_lon13.375_t2m', 'lat48.125_lon13.375_ssrd',\n",
    "    #'load_DE_50Hertz', 'load_DE_Amprion', 'load_DE_TenneT', 'load_DE_TransnetBW', \n",
    "    #'solar_gen_DE_50Hertz',  'solar_gen_DE_Amprion', 'solar_gen_DE_TenneT', 'solar_gen_DE_TransnetBW',\n",
    "    #'wind_gen_DE_50Hertz', 'wind_gen_DE_Amprion', 'wind_gen_DE_TenneT', 'wind_gen_DE_TransnetBW'\n",
    "#]\n",
    "args.targets = [['load_DE', 'solar_gen_DE', \"wind_gen_DE\"]]\n",
    "#    'load_DE', 'solar_gen_DE', 'wind_gen_DE',\n",
    "#    'load_DE_50Hertz', 'load_DE_Amprion', 'load_DE_TenneT', 'load_DE_TransnetBW',\n",
    "#    'solar_gen_DE_50Hertz', 'solar_gen_DE_Amprion', 'solar_gen_DE_TenneT',  'solar_gen_DE_TransnetBW', \n",
    "#    'wind_gen_DE_50Hertz', 'wind_gen_DE_Amprion',  'wind_gen_DE_TenneT', 'wind_gen_DE_TransnetBW'\n",
    "#]]\n",
    "args.window_size = 96\n",
    "args.stride = 1 # Has to be <= min(window_size, forecast_horizon) and stride * integer = window_size,\n",
    "# and stride * integer2 = forecast_horizon\n",
    "args.lead_time = 0 # TODO: Not working yet\n",
    "args.forecast_horizons = [24] #96, 192, 336, 720]\n",
    "\n",
    "# Plotting\n",
    "args.plot = False\n",
    "args.plot_date = '2021-07-01'\n",
    "args.days = 10\n",
    "\n",
    "# Save model\n",
    "args.save_model = False\n",
    "args.save_benchmark = True\n",
    "args.date_time = datetime.now().strftime(\"%m-%d-%H\")"
   ]
  },
  {
   "cell_type": "code",
   "execution_count": 3,
   "metadata": {},
   "outputs": [
    {
     "name": "stdout",
     "output_type": "stream",
     "text": [
      "------- Starting to train linreg on ['load_DE', 'solar_gen_DE', 'wind_gen_DE'] for horizons [24] ----------\n",
      "-----------------\n",
      "X_train (52489, 357)\n",
      "y_train (52489, 72)\n",
      "                      mae       mse\n",
      "target  horizon                    \n",
      "load_DE 24       0.299406  0.207491\n"
     ]
    }
   ],
   "source": [
    "run_non_deepl.pipeline(args)"
   ]
  },
  {
   "cell_type": "code",
   "execution_count": 4,
   "metadata": {},
   "outputs": [
    {
     "ename": "SyntaxError",
     "evalue": "invalid syntax (1344895621.py, line 2)",
     "output_type": "error",
     "traceback": [
      "\u001b[0;36m  Cell \u001b[0;32mIn[4], line 2\u001b[0;36m\u001b[0m\n\u001b[0;31m    [0]\ttrain-rmse:0.73715\tval-rmse:0.87879\u001b[0m\n\u001b[0m       \t^\u001b[0m\n\u001b[0;31mSyntaxError\u001b[0m\u001b[0;31m:\u001b[0m invalid syntax\n"
     ]
    }
   ],
   "source": [
    "# 96, 24/3\n",
    "[0]\ttrain-rmse:0.73715\tval-rmse:0.87879\n",
    "[1]\ttrain-rmse:0.55648\tval-rmse:0.68884\n",
    "[2]\ttrain-rmse:0.43425\tval-rmse:0.56001\n",
    "[3]\ttrain-rmse:0.35200\tval-rmse:0.47303\n",
    "[4]\ttrain-rmse:0.29741\tval-rmse:0.41440\n",
    "[5]\ttrain-rmse:0.26143\tval-rmse:0.37554\n",
    "[6]\ttrain-rmse:0.23722\tval-rmse:0.34887\n",
    "[7]\ttrain-rmse:0.22055\tval-rmse:0.33101\n",
    "[8]\ttrain-rmse:0.20818\tval-rmse:0.31850\n",
    "[9]\ttrain-rmse:0.19893\tval-rmse:0.30925\n",
    "[10]\ttrain-rmse:0.19152\tval-rmse:0.30251\n",
    "[11]\ttrain-rmse:0.18540\tval-rmse:0.29741\n",
    "\n",
    "# 96, 24:\n",
    "Basically the same, maybe 0.01 worse\n",
    "\n",
    "\n",
    "#linreg\n",
    "\n",
    "336, 24\n",
    "et  horizon                    \n",
    "load_DE 24       0.267166  0.172498\n",
    "        96       0.354999  0.285452\n",
    "        192      0.410362  0.350860\n",
    "        336      0.450393  0.409845\n",
    "        720      0.502556  0.502072\n",
    "\n",
    "96, 24/3\n",
    "                      mae       mse\n",
    "target  horizon                    \n",
    "load_DE 24       0.279965  0.175732\n",
    "        96       0.364920  0.288756\n",
    "        192      0.394537  0.345942\n",
    "        336      0.420944  0.397560\n",
    "        720      0.464958  0.475660\n",
    "\n",
    "96, 24\n",
    "                      mae       mse\n",
    "target  horizon                    \n",
    "load_DE 24       0.292048  0.185194\n",
    "        96       0.367437  0.287573\n",
    "        192      0.408225  0.339570\n",
    "        336      0.443569  0.393282\n",
    "        720      0.495444  0.482925\n",
    "\n",
    "96, 96                      mae       mse\n",
    "target  horizon                    \n",
    "load_DE 24       0.292048  0.185194\n",
    "        96       0.369515  0.290830\n",
    "        192      0.403860  0.341771\n",
    "        336      0.450727  0.410135\n",
    "        720      0.543785  0.570833\n",
    "\n",
    "96,192\n",
    "                      mae       mse\n",
    "target  horizon                    \n",
    "load_DE 24       0.292048  0.185194\n",
    "        96       0.369515  0.290830\n",
    "        192      0.404794  0.343007\n",
    "        336      0.454072  0.418479\n",
    "        720      0.598917  0.717736\n",
    "\n",
    "# Main takeawys: Linear regression needs regularization 0.1,1,10,100, 1000 all work well\n",
    "# Works best if 24/3 many sample points, works best with 96 seq. length (around 0.28 MSE error)\n",
    "\n",
    "# XGBoost is quite invariatn to input length, (336 vs 96), sample points (24/3 vs 24: "
   ]
  }
 ],
 "metadata": {
  "kernelspec": {
   "display_name": "thesis",
   "language": "python",
   "name": "python3"
  },
  "language_info": {
   "codemirror_mode": {
    "name": "ipython",
    "version": 3
   },
   "file_extension": ".py",
   "mimetype": "text/x-python",
   "name": "python",
   "nbconvert_exporter": "python",
   "pygments_lexer": "ipython3",
   "version": "3.11.5"
  }
 },
 "nbformat": 4,
 "nbformat_minor": 2
}
