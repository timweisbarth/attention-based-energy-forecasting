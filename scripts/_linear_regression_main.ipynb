{
 "cells": [
  {
   "cell_type": "code",
   "execution_count": 1,
   "metadata": {},
   "outputs": [
    {
     "name": "stdout",
     "output_type": "stream",
     "text": [
      "/Users/timw/Documents/University/thesis_2\n"
     ]
    }
   ],
   "source": [
    "import sys\n",
    "sys.path.append(\"./../utils/\")\n",
    "sys.path.append(\"./../\")\n",
    "from sklearn.preprocessing import StandardScaler\n",
    "from datetime import datetime\n",
    "\n",
    "#Modules of src folder\n",
    "from tools import dotdict\n",
    "import run_non_deepl\n",
    "%matplotlib inline\n",
    "%cd  .. "
   ]
  },
  {
   "cell_type": "markdown",
   "metadata": {},
   "source": [
    "## Parameters"
   ]
  },
  {
   "cell_type": "code",
   "execution_count": 2,
   "metadata": {},
   "outputs": [],
   "source": [
    "args = dotdict({})\n",
    "args.model_params = dotdict({})\n",
    "args.train_params = dotdict({})\n",
    "\n",
    "args.experiment_name = \"Exp0\"\n",
    "\n",
    "# Data loading\n",
    "args.from_raw = True\n",
    "args.file_name = \"smard_data.csv\"\n",
    "from_raw_folder = \"raw\" if args.from_raw else \"preproc_non_deepl\"\n",
    "args.path = f\"./data/{from_raw_folder}/{args.file_name}\"\n",
    "\n",
    "# Preprocessing\n",
    "args.scaler_name = \"std\"\n",
    "args.scaler = {\"std\":StandardScaler()}[args.scaler_name]\n",
    "\n",
    "# Model and its hyperparameters\n",
    "args.model_name = \"linreg\"\n",
    "args.model_params = None\n",
    "args.train_params = None\n",
    "\n",
    "# Prediction\n",
    "args.forecast_setting = \"both\"\n",
    "args.cols_to_lag = ['load', 'solar_gen', 'wind_gen']\n",
    "args.targets = [['load', 'solar_gen', \"wind_gen\"], ['load'], ['solar_gen'], ['wind_gen']]\n",
    "args.window_size = 4\n",
    "args.stride = 1 # Has to be <= min(window_size, forecast_horizon) and stride * integer = window_size,\n",
    "# and stride * integer2 = forecast_horizon\n",
    "args.lead_time = 0 # TODO: Not working yet\n",
    "args.forecast_horizons = [24, 48, 96, 192, 336, 720]\n",
    "\n",
    "# Plotting\n",
    "args.plot = False\n",
    "args.plot_date = '2021-07-01'\n",
    "args.days = 10\n",
    "\n",
    "# Save model\n",
    "args.save_model = False\n",
    "args.save_benchmark = True\n",
    "args.date_time = datetime.now().strftime(\"%m-%d-%H\")"
   ]
  },
  {
   "cell_type": "code",
   "execution_count": 3,
   "metadata": {},
   "outputs": [
    {
     "name": "stdout",
     "output_type": "stream",
     "text": [
      "------- Starting to train linreg on ['load', 'solar_gen', 'wind_gen'] for horizons [24, 48, 96, 192, 336, 720] ----------\n",
      "------- Starting to train linreg on ['load'] for horizons [24, 48, 96, 192, 336, 720] ----------\n",
      "------- Starting to train linreg on ['solar_gen'] for horizons [24, 48, 96, 192, 336, 720] ----------\n",
      "------- Starting to train linreg on ['wind_gen'] for horizons [24, 48, 96, 192, 336, 720] ----------\n"
     ]
    }
   ],
   "source": [
    "run_non_deepl.pipeline(args)"
   ]
  }
 ],
 "metadata": {
  "kernelspec": {
   "display_name": "thesis",
   "language": "python",
   "name": "python3"
  },
  "language_info": {
   "codemirror_mode": {
    "name": "ipython",
    "version": 3
   },
   "file_extension": ".py",
   "mimetype": "text/x-python",
   "name": "python",
   "nbconvert_exporter": "python",
   "pygments_lexer": "ipython3",
   "version": "3.11.5"
  }
 },
 "nbformat": 4,
 "nbformat_minor": 2
}
