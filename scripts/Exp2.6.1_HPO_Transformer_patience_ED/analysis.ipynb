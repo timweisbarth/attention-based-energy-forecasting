{
 "cells": [
  {
   "cell_type": "markdown",
   "metadata": {},
   "source": [
    "# Exp 2.6.1\n",
    "\n",
    "Does increased patience (=later early stopping) improve performance? Answer: no"
   ]
  }
 ],
 "metadata": {
  "language_info": {
   "name": "python"
  }
 },
 "nbformat": 4,
 "nbformat_minor": 2
}
